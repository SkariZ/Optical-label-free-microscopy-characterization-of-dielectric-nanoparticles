{
  "cells": [
    {
      "cell_type": "markdown",
      "id": "6003c7a1",
      "metadata": {},
      "source": [
        "# Example 1 - Detection and quantification in Brightfield\n",
        "\n",
        "xxx"
      ]
    },
    {
      "cell_type": "markdown",
      "id": "2eb6032e",
      "metadata": {},
      "source": [
        "## 1. Imports"
      ]
    },
    {
      "cell_type": "code",
      "execution_count": 1,
      "id": "06038963",
      "metadata": {},
      "outputs": [
        {
          "name": "stderr",
          "output_type": "stream",
          "text": [
            "c:\\Users\\Fredrik\\miniconda3\\envs\\dt\\lib\\site-packages\\tensorflow_addons\\utils\\tfa_eol_msg.py:23: UserWarning: \n",
            "\n",
            "TensorFlow Addons (TFA) has ended development and introduction of new features.\n",
            "TFA has entered a minimal maintenance and release mode until a planned end of life in May 2024.\n",
            "Please modify downstream libraries to take dependencies from other repositories in our TensorFlow community (e.g. Keras, Keras-CV, and Keras-NLP). \n",
            "\n",
            "For more information see: https://github.com/tensorflow/addons/issues/2807 \n",
            "\n",
            "  warnings.warn(\n",
            "c:\\Users\\Fredrik\\miniconda3\\envs\\dt\\lib\\site-packages\\tqdm\\auto.py:21: TqdmWarning: IProgress not found. Please update jupyter and ipywidgets. See https://ipywidgets.readthedocs.io/en/stable/user_install.html\n",
            "  from .autonotebook import tqdm as notebook_tqdm\n"
          ]
        }
      ],
      "source": [
        "import sys\n",
        "sys.path.insert(0, \"../..\") # Adds the module to path\n",
        "import deeptrack as dt"
      ]
    },
    {
      "cell_type": "code",
      "execution_count": 2,
      "id": "a9bdfb28",
      "metadata": {},
      "outputs": [],
      "source": [
        "import deeplay as dl"
      ]
    },
    {
      "cell_type": "code",
      "execution_count": 3,
      "id": "142e8f7f",
      "metadata": {
        "execution": {
          "iopub.execute_input": "2022-06-29T20:23:00.551211Z",
          "iopub.status.busy": "2022-06-29T20:23:00.551211Z",
          "iopub.status.idle": "2022-06-29T20:23:04.182210Z",
          "shell.execute_reply": "2022-06-29T20:23:04.181711Z"
        }
      },
      "outputs": [],
      "source": [
        "#import deeptrack as dt\n",
        "import numpy as np\n",
        "import matplotlib.pyplot as plt\n",
        "import tensorflow as tf"
      ]
    },
    {
      "cell_type": "markdown",
      "id": "36006f55",
      "metadata": {},
      "source": [
        "## 2. Detection in brightfield\n",
        "\n",
        "xxx"
      ]
    },
    {
      "cell_type": "markdown",
      "id": "1d5bb85a",
      "metadata": {},
      "source": [
        "### 2.1 Defining the optical system\n",
        "\n",
        "xxx"
      ]
    },
    {
      "cell_type": "code",
      "execution_count": 18,
      "id": "05fe9ade",
      "metadata": {},
      "outputs": [],
      "source": [
        "IMAGE_SIZE = 32\n",
        "NA = 1.3\n",
        "MAGNIFICATION = 1\n",
        "WAVELENGTH = 633e-9\n",
        "RESOLUTION = 1.14e-7"
      ]
    },
    {
      "cell_type": "code",
      "execution_count": 37,
      "id": "d8493932",
      "metadata": {},
      "outputs": [],
      "source": [
        "optics = dt.Darkfield(\n",
        "    NA=NA,\n",
        "    magnification=MAGNIFICATION,\n",
        "    wavelength=WAVELENGTH,\n",
        "    resolution=RESOLUTION,\n",
        "    #return_field=True, \n",
        "    output_region=(0, 0, IMAGE_SIZE, IMAGE_SIZE),\n",
        "    illumination_angle=np.pi\n",
        ")"
      ]
    },
    {
      "cell_type": "markdown",
      "id": "e885cef4",
      "metadata": {},
      "source": [
        "### 2.2 Defining the particle\n",
        "\n",
        "xxx"
      ]
    },
    {
      "cell_type": "code",
      "execution_count": 38,
      "id": "3432fe3d",
      "metadata": {},
      "outputs": [],
      "source": [
        "RADIUS = 50e-9\n",
        "REFRACTIVE_INDEX = 1.4\n",
        "PADDING = 64"
      ]
    },
    {
      "cell_type": "code",
      "execution_count": 39,
      "id": "94ed3015",
      "metadata": {},
      "outputs": [],
      "source": [
        "particle = dt.MieSphere(\n",
        "    radius=lambda: RADIUS,\n",
        "    refractive_index=lambda: REFRACTIVE_INDEX,\n",
        "    position=(IMAGE_SIZE / 2,) * 2,\n",
        "    L=100,\n",
        ")"
      ]
    },
    {
      "cell_type": "markdown",
      "id": "142ff7ee",
      "metadata": {},
      "source": [
        "### 2.3 Defining the dataset\n",
        "\n",
        "We define a dataset with the particle properties imaged in the optical setup."
      ]
    },
    {
      "cell_type": "code",
      "execution_count": 40,
      "id": "739e8436",
      "metadata": {
        "execution": {
          "iopub.execute_input": "2022-06-29T20:23:04.186211Z",
          "iopub.status.busy": "2022-06-29T20:23:04.186211Z",
          "iopub.status.idle": "2022-06-29T20:23:04.191711Z",
          "shell.execute_reply": "2022-06-29T20:23:04.191211Z"
        }
      },
      "outputs": [],
      "source": [
        "\n",
        "training_data= optics(particle) \n",
        "#training_data = (imaged_particle >> dt.Real()) & (imaged_particle >> dt.Imag())\n",
        "#training_data = training_data >> dt.Merge(lambda: lambda x: np.concatenate( [np.array(_x) for _x in x], axis=-1 ))"
      ]
    },
    {
      "cell_type": "code",
      "execution_count": 41,
      "id": "06ea2016",
      "metadata": {},
      "outputs": [],
      "source": [
        "X2 = training_data.update().resolve()"
      ]
    },
    {
      "cell_type": "code",
      "execution_count": 42,
      "id": "31e04964",
      "metadata": {},
      "outputs": [
        {
          "data": {
            "text/plain": [
              "<matplotlib.colorbar.Colorbar at 0x1cd6ab7fbb0>"
            ]
          },
          "execution_count": 42,
          "metadata": {},
          "output_type": "execute_result"
        },
        {
          "data": {
            "image/png": "[encoded data removed]",
            "text/plain": [
              "<Figure size 640x480 with 2 Axes>"
            ]
          },
          "metadata": {},
          "output_type": "display_data"
        }
      ],
      "source": [
        "plt.imshow(training_data.update().resolve())\n",
        "plt.colorbar()"
      ]
    },
    {
      "cell_type": "code",
      "execution_count": 30,
      "id": "1bfbfd07",
      "metadata": {
        "execution": {
          "iopub.execute_input": "2022-06-29T20:23:04.196712Z",
          "iopub.status.busy": "2022-06-29T20:23:04.196712Z",
          "iopub.status.idle": "2022-06-29T20:23:04.198711Z",
          "shell.execute_reply": "2022-06-29T20:23:04.199211Z"
        }
      },
      "outputs": [],
      "source": [
        "#For z-propagation\n",
        "crop_propagation_forward = dt.get_propagation_matrix((IMAGE_SIZE + PADDING, ) * 2, 1e-7, RESOLUTION, WAVELENGTH)\n",
        "crop_propagation_backward = dt.get_propagation_matrix((IMAGE_SIZE + PADDING, ) * 2, -1e-7, RESOLUTION, WAVELENGTH)\n",
        "\n",
        "# Augmentation arguments\n",
        "args = dt.Arguments(\n",
        "    translate=lambda: np.random.randn(2) * 1,\n",
        "    rotate=lambda:np.random.uniform(0, np.pi*2),\n",
        "    z=lambda: np.random.randint(-2, 2),\n",
        "    )\n",
        "\n",
        "# Augmentation pipeline\n",
        "group = ( \n",
        "     dt.Affine(rotate=args.rotate) \n",
        "    >>dt.Affine(translate=args.translate) \n",
        "    >> dt.FourierTransform() \n",
        "    >> dt.FourierTransformTransformation(crop_propagation_forward, crop_propagation_backward, args.z) \n",
        "    >> dt.InverseFourierTransform() \n",
        "    >> dt.Gaussian(sigma=lambda: np.random.rand() * 1e-5)\n",
        ")\n",
        "\n",
        "# Equivariance for the model\n",
        "equivariance = (\n",
        "     dt.models.lodestar.Rotational2DEquivariance(args.rotate)\n",
        "    >>dt.models.lodestar.TranslationalEquivariance(args.translate)\n",
        "    )\n",
        "\n",
        "##################################\n",
        "\n",
        "import numpy as np\n",
        "import torch\n",
        "\n",
        "training_pipeline = (\n",
        "    dt.Value(training_data)\n",
        "    >> dt.Multiply(lambda: np.random.uniform(0.9, 1.1))\n",
        "    >> dt.Add(lambda: np.random.uniform(-0.1, 0.1))\n",
        "    >> dt.pytorch.ToTensor(dtype=torch.float32)\n",
        ")\n",
        "\n",
        "training_dataset = dt.pytorch.Dataset(training_pipeline, length=400, \n",
        "                                      replace=False)\n"
      ]
    },
    {
      "cell_type": "code",
      "execution_count": 31,
      "id": "39f5bed1",
      "metadata": {},
      "outputs": [
        {
          "name": "stderr",
          "output_type": "stream",
          "text": [
            "INFO:pytorch_lightning.utilities.rank_zero:GPU available: False, used: False\n",
            "INFO:pytorch_lightning.utilities.rank_zero:TPU available: False, using: 0 TPU cores\n",
            "INFO:pytorch_lightning.utilities.rank_zero:IPU available: False, using: 0 IPUs\n",
            "INFO:pytorch_lightning.utilities.rank_zero:HPU available: False, using: 0 HPUs\n",
            "INFO: \n",
            "  | Name          | Type                       | Params\n",
            "-------------------------------------------------------------\n",
            "0 | model         | ConvolutionalNeuralNetwork | 251 K \n",
            "1 | between_loss  | L1Loss                     | 0     \n",
            "2 | within_loss   | L1Loss                     | 0     \n",
            "3 | train_metrics | MetricCollection           | 0     \n",
            "4 | val_metrics   | MetricCollection           | 0     \n",
            "5 | test_metrics  | MetricCollection           | 0     \n",
            "6 | optimizer     | Adam                       | 0     \n",
            "-------------------------------------------------------------\n",
            "251 K     Trainable params\n",
            "0         Non-trainable params\n",
            "251 K     Total params\n",
            "1.004     Total estimated model params size (MB)\n",
            "INFO:lightning.pytorch.callbacks.model_summary:\n",
            "  | Name          | Type                       | Params\n",
            "-------------------------------------------------------------\n",
            "0 | model         | ConvolutionalNeuralNetwork | 251 K \n",
            "1 | between_loss  | L1Loss                     | 0     \n",
            "2 | within_loss   | L1Loss                     | 0     \n",
            "3 | train_metrics | MetricCollection           | 0     \n",
            "4 | val_metrics   | MetricCollection           | 0     \n",
            "5 | test_metrics  | MetricCollection           | 0     \n",
            "6 | optimizer     | Adam                       | 0     \n",
            "-------------------------------------------------------------\n",
            "251 K     Trainable params\n",
            "0         Non-trainable params\n",
            "251 K     Total params\n",
            "1.004     Total estimated model params size (MB)\n"
          ]
        },
        {
          "name": "stdout",
          "output_type": "stream",
          "text": [
            "Epoch 199: 100%|██████████| 50/50 [00:01<00:00, 45.85it/s, v_num=1, train_between_image_disagreement_step=0.747, train_within_image_disagreement_step=7.73e-5, train_between_image_disagreement_epoch=0.870, train_within_image_disagreement_epoch=8.94e-5]  "
          ]
        },
        {
          "name": "stderr",
          "output_type": "stream",
          "text": [
            "INFO:pytorch_lightning.utilities.rank_zero:`Trainer.fit` stopped: `max_epochs=200` reached.\n"
          ]
        },
        {
          "name": "stdout",
          "output_type": "stream",
          "text": [
            "Epoch 199: 100%|██████████| 50/50 [00:01<00:00, 45.33it/s, v_num=1, train_between_image_disagreement_step=0.747, train_within_image_disagreement_step=7.73e-5, train_between_image_disagreement_epoch=0.870, train_within_image_disagreement_epoch=8.94e-5]\n"
          ]
        }
      ],
      "source": [
        "import deeptrack.deeplay as dl \n",
        "\n",
        "dataloader = dl.DataLoader(training_dataset, batch_size=8, shuffle=True)\n",
        "lodestar = dl.LodeSTAR(n_transforms=4, optimizer=dl.Adam(lr=1e-4)).build()\n",
        "trainer = dl.Trainer(max_epochs=50)\n",
        "trainer.fit(lodestar, dataloader)"
      ]
    },
    {
      "cell_type": "code",
      "execution_count": null,
      "id": "aedda3e7",
      "metadata": {},
      "outputs": [],
      "source": []
    },
    {
      "cell_type": "code",
      "execution_count": 12,
      "id": "5fa4c399",
      "metadata": {
        "execution": {
          "iopub.execute_input": "2022-06-29T20:23:04.205711Z",
          "iopub.status.busy": "2022-06-29T20:23:04.205210Z",
          "iopub.status.idle": "2022-06-29T20:23:05.031711Z",
          "shell.execute_reply": "2022-06-29T20:23:05.031711Z"
        }
      },
      "outputs": [
        {
          "ename": "AttributeError",
          "evalue": "'numpy.ndarray' object has no attribute 'properties'",
          "output_type": "error",
          "traceback": [
            "\u001b[1;31m---------------------------------------------------------------------------\u001b[0m",
            "\u001b[1;31mAttributeError\u001b[0m                            Traceback (most recent call last)",
            "Cell \u001b[1;32mIn[12], line 8\u001b[0m\n\u001b[0;32m      6\u001b[0m \u001b[38;5;28;01mfor\u001b[39;00m i \u001b[38;5;129;01min\u001b[39;00m \u001b[38;5;28mrange\u001b[39m(\u001b[38;5;241m9\u001b[39m):\n\u001b[0;32m      7\u001b[0m     plt\u001b[38;5;241m.\u001b[39msubplot(\u001b[38;5;241m3\u001b[39m, \u001b[38;5;241m3\u001b[39m, i\u001b[38;5;241m+\u001b[39m\u001b[38;5;241m1\u001b[39m)\n\u001b[1;32m----> 8\u001b[0m     \u001b[43m(\u001b[49m\u001b[43mtraining_set\u001b[49m\u001b[43m \u001b[49m\u001b[38;5;241;43m>>\u001b[39;49m\u001b[43m \u001b[49m\u001b[43mgroup\u001b[49m\u001b[43m)\u001b[49m\u001b[38;5;241;43m.\u001b[39;49m\u001b[43mupdate\u001b[49m\u001b[43m(\u001b[49m\u001b[43m)\u001b[49m\u001b[38;5;241;43m.\u001b[39;49m\u001b[43mplot\u001b[49m\u001b[43m(\u001b[49m\u001b[43mcmap\u001b[49m\u001b[43m \u001b[49m\u001b[38;5;241;43m=\u001b[39;49m\u001b[43m \u001b[49m\u001b[38;5;124;43m'\u001b[39;49m\u001b[38;5;124;43mgray\u001b[39;49m\u001b[38;5;124;43m'\u001b[39;49m\u001b[43m)\u001b[49m\n\u001b[0;32m      9\u001b[0m     plt\u001b[38;5;241m.\u001b[39maxis(\u001b[38;5;124m'\u001b[39m\u001b[38;5;124moff\u001b[39m\u001b[38;5;124m'\u001b[39m)\n",
            "File \u001b[1;32mc:\\Users\\Fredrik\\Documents\\GitHub\\DeepTrack2\\examples\\Tutorial_review\\../..\\deeptrack\\features.py:423\u001b[0m, in \u001b[0;36mFeature.plot\u001b[1;34m(self, input_image, resolve_kwargs, interval, **kwargs)\u001b[0m\n\u001b[0;32m    418\u001b[0m \u001b[38;5;28;01mfrom\u001b[39;00m \u001b[38;5;21;01mIPython\u001b[39;00m\u001b[38;5;21;01m.\u001b[39;00m\u001b[38;5;21;01mdisplay\u001b[39;00m \u001b[38;5;28;01mimport\u001b[39;00m HTML, display\n\u001b[0;32m    420\u001b[0m \u001b[38;5;66;03m# if input_image is not None:\u001b[39;00m\n\u001b[0;32m    421\u001b[0m \u001b[38;5;66;03m#     input_image = [Image(input_image)]\u001b[39;00m\n\u001b[1;32m--> 423\u001b[0m output_image \u001b[38;5;241m=\u001b[39m \u001b[38;5;28mself\u001b[39m\u001b[38;5;241m.\u001b[39mresolve(input_image, \u001b[38;5;241m*\u001b[39m\u001b[38;5;241m*\u001b[39m(resolve_kwargs \u001b[38;5;129;01mor\u001b[39;00m {}))\n\u001b[0;32m    425\u001b[0m \u001b[38;5;66;03m# If a list, assume video\u001b[39;00m\n\u001b[0;32m    426\u001b[0m \u001b[38;5;28;01mif\u001b[39;00m \u001b[38;5;129;01mnot\u001b[39;00m \u001b[38;5;28misinstance\u001b[39m(output_image, \u001b[38;5;28mlist\u001b[39m):\n\u001b[0;32m    427\u001b[0m     \u001b[38;5;66;03m# Single image\u001b[39;00m\n",
            "File \u001b[1;32mc:\\Users\\Fredrik\\Documents\\GitHub\\DeepTrack2\\examples\\Tutorial_review\\../..\\deeptrack\\features.py:192\u001b[0m, in \u001b[0;36mFeature.__call__\u001b[1;34m(self, image_list, _ID, **kwargs)\u001b[0m\n\u001b[0;32m    189\u001b[0m             \u001b[38;5;28mself\u001b[39m\u001b[38;5;241m.\u001b[39marguments\u001b[38;5;241m.\u001b[39mproperties[key]\u001b[38;5;241m.\u001b[39mset_value(value, _ID\u001b[38;5;241m=\u001b[39m_ID)\n\u001b[0;32m    191\u001b[0m \u001b[38;5;66;03m# This executes the feature. DeepTrackNode will determine if it needs to be recalculated. If it does, it will call the `action` method.\u001b[39;00m\n\u001b[1;32m--> 192\u001b[0m output \u001b[38;5;241m=\u001b[39m \u001b[38;5;28;43msuper\u001b[39;49m\u001b[43m(\u001b[49m\u001b[43mFeature\u001b[49m\u001b[43m,\u001b[49m\u001b[43m \u001b[49m\u001b[38;5;28;43mself\u001b[39;49m\u001b[43m)\u001b[49m\u001b[38;5;241;43m.\u001b[39;49m\u001b[38;5;21;43m__call__\u001b[39;49m\u001b[43m(\u001b[49m\u001b[43m_ID\u001b[49m\u001b[38;5;241;43m=\u001b[39;49m\u001b[43m_ID\u001b[49m\u001b[43m)\u001b[49m\n\u001b[0;32m    194\u001b[0m \u001b[38;5;66;03m# If we have self.arguments, we reset the values of self.arguments to their original values.\u001b[39;00m\n\u001b[0;32m    195\u001b[0m \u001b[38;5;28;01mfor\u001b[39;00m key, value \u001b[38;5;129;01min\u001b[39;00m original_values\u001b[38;5;241m.\u001b[39mitems():\n",
            "File \u001b[1;32mc:\\Users\\Fredrik\\Documents\\GitHub\\DeepTrack2\\examples\\Tutorial_review\\../..\\deeptrack\\backend\\core.py:307\u001b[0m, in \u001b[0;36mDeepTrackNode.__call__\u001b[1;34m(self, _ID)\u001b[0m\n\u001b[0;32m    304\u001b[0m         \u001b[38;5;28;01mpass\u001b[39;00m\n\u001b[0;32m    306\u001b[0m \u001b[38;5;28;01mif\u001b[39;00m \u001b[38;5;28mself\u001b[39m\u001b[38;5;241m.\u001b[39m_accepts_ID:\n\u001b[1;32m--> 307\u001b[0m     new_value \u001b[38;5;241m=\u001b[39m \u001b[38;5;28;43mself\u001b[39;49m\u001b[38;5;241;43m.\u001b[39;49m\u001b[43maction\u001b[49m\u001b[43m(\u001b[49m\u001b[43m_ID\u001b[49m\u001b[38;5;241;43m=\u001b[39;49m\u001b[43m_ID\u001b[49m\u001b[43m)\u001b[49m\n\u001b[0;32m    308\u001b[0m \u001b[38;5;28;01melse\u001b[39;00m:\n\u001b[0;32m    309\u001b[0m     new_value \u001b[38;5;241m=\u001b[39m \u001b[38;5;28mself\u001b[39m\u001b[38;5;241m.\u001b[39maction()\n",
            "File \u001b[1;32mc:\\Users\\Fredrik\\Documents\\GitHub\\DeepTrack2\\examples\\Tutorial_review\\../..\\deeptrack\\features.py:315\u001b[0m, in \u001b[0;36mFeature.action\u001b[1;34m(self, _ID)\u001b[0m\n\u001b[0;32m    308\u001b[0m image_list \u001b[38;5;241m=\u001b[39m \u001b[38;5;28mself\u001b[39m\u001b[38;5;241m.\u001b[39m_format_input(image_list, \u001b[38;5;241m*\u001b[39m\u001b[38;5;241m*\u001b[39mfeature_input)\n\u001b[0;32m    310\u001b[0m \u001b[38;5;66;03m# Set the seed from the hash_key. Ensures equal results\u001b[39;00m\n\u001b[0;32m    311\u001b[0m \u001b[38;5;66;03m# self.seed(_ID=_ID)\u001b[39;00m\n\u001b[0;32m    312\u001b[0m \n\u001b[0;32m    313\u001b[0m \u001b[38;5;66;03m# _process_and_get calls the get function correctly according\u001b[39;00m\n\u001b[0;32m    314\u001b[0m \u001b[38;5;66;03m# to the __distributed__ attribute\u001b[39;00m\n\u001b[1;32m--> 315\u001b[0m new_list \u001b[38;5;241m=\u001b[39m \u001b[38;5;28mself\u001b[39m\u001b[38;5;241m.\u001b[39m_process_and_get(image_list, \u001b[38;5;241m*\u001b[39m\u001b[38;5;241m*\u001b[39mfeature_input)\n\u001b[0;32m    317\u001b[0m \u001b[38;5;28mself\u001b[39m\u001b[38;5;241m.\u001b[39m_process_output(new_list, feature_input)\n\u001b[0;32m    320\u001b[0m \u001b[38;5;66;03m# Merge input and new_list\u001b[39;00m\n",
            "File \u001b[1;32mc:\\Users\\Fredrik\\Documents\\GitHub\\DeepTrack2\\examples\\Tutorial_review\\../..\\deeptrack\\features.py:683\u001b[0m, in \u001b[0;36mFeature._no_wrap_process_and_get\u001b[1;34m(self, image_list, **feature_input)\u001b[0m\n\u001b[0;32m    679\u001b[0m     \u001b[38;5;28;01mreturn\u001b[39;00m [\u001b[38;5;28mself\u001b[39m\u001b[38;5;241m.\u001b[39mget(x, \u001b[38;5;241m*\u001b[39m\u001b[38;5;241m*\u001b[39mfeature_input) \u001b[38;5;28;01mfor\u001b[39;00m x \u001b[38;5;129;01min\u001b[39;00m image_list]\n\u001b[0;32m    681\u001b[0m \u001b[38;5;28;01melse\u001b[39;00m:\n\u001b[0;32m    682\u001b[0m     \u001b[38;5;66;03m# Call get on entire list.\u001b[39;00m\n\u001b[1;32m--> 683\u001b[0m     new_list \u001b[38;5;241m=\u001b[39m \u001b[38;5;28mself\u001b[39m\u001b[38;5;241m.\u001b[39mget(image_list, \u001b[38;5;241m*\u001b[39m\u001b[38;5;241m*\u001b[39mfeature_input)\n\u001b[0;32m    685\u001b[0m     \u001b[38;5;28;01mif\u001b[39;00m \u001b[38;5;129;01mnot\u001b[39;00m \u001b[38;5;28misinstance\u001b[39m(new_list, \u001b[38;5;28mlist\u001b[39m):\n\u001b[0;32m    686\u001b[0m         new_list \u001b[38;5;241m=\u001b[39m [new_list]\n",
            "File \u001b[1;32mc:\\Users\\Fredrik\\Documents\\GitHub\\DeepTrack2\\examples\\Tutorial_review\\../..\\deeptrack\\features.py:777\u001b[0m, in \u001b[0;36mChain.get\u001b[1;34m(self, image, _ID, **kwargs)\u001b[0m\n\u001b[0;32m    775\u001b[0m \u001b[38;5;250m\u001b[39m\u001b[38;5;124;03m\"\"\"Resolves `feature_1` and `feature_2` sequentially\"\"\"\u001b[39;00m\n\u001b[0;32m    776\u001b[0m image \u001b[38;5;241m=\u001b[39m \u001b[38;5;28mself\u001b[39m\u001b[38;5;241m.\u001b[39mfeature_1(image, _ID\u001b[38;5;241m=\u001b[39m_ID)\n\u001b[1;32m--> 777\u001b[0m image \u001b[38;5;241m=\u001b[39m \u001b[38;5;28;43mself\u001b[39;49m\u001b[38;5;241;43m.\u001b[39;49m\u001b[43mfeature_2\u001b[49m\u001b[43m(\u001b[49m\u001b[43mimage\u001b[49m\u001b[43m,\u001b[49m\u001b[43m \u001b[49m\u001b[43m_ID\u001b[49m\u001b[38;5;241;43m=\u001b[39;49m\u001b[43m_ID\u001b[49m\u001b[43m)\u001b[49m\n\u001b[0;32m    778\u001b[0m \u001b[38;5;28;01mreturn\u001b[39;00m image\n",
            "File \u001b[1;32mc:\\Users\\Fredrik\\Documents\\GitHub\\DeepTrack2\\examples\\Tutorial_review\\../..\\deeptrack\\features.py:192\u001b[0m, in \u001b[0;36mFeature.__call__\u001b[1;34m(self, image_list, _ID, **kwargs)\u001b[0m\n\u001b[0;32m    189\u001b[0m             \u001b[38;5;28mself\u001b[39m\u001b[38;5;241m.\u001b[39marguments\u001b[38;5;241m.\u001b[39mproperties[key]\u001b[38;5;241m.\u001b[39mset_value(value, _ID\u001b[38;5;241m=\u001b[39m_ID)\n\u001b[0;32m    191\u001b[0m \u001b[38;5;66;03m# This executes the feature. DeepTrackNode will determine if it needs to be recalculated. If it does, it will call the `action` method.\u001b[39;00m\n\u001b[1;32m--> 192\u001b[0m output \u001b[38;5;241m=\u001b[39m \u001b[38;5;28;43msuper\u001b[39;49m\u001b[43m(\u001b[49m\u001b[43mFeature\u001b[49m\u001b[43m,\u001b[49m\u001b[43m \u001b[49m\u001b[38;5;28;43mself\u001b[39;49m\u001b[43m)\u001b[49m\u001b[38;5;241;43m.\u001b[39;49m\u001b[38;5;21;43m__call__\u001b[39;49m\u001b[43m(\u001b[49m\u001b[43m_ID\u001b[49m\u001b[38;5;241;43m=\u001b[39;49m\u001b[43m_ID\u001b[49m\u001b[43m)\u001b[49m\n\u001b[0;32m    194\u001b[0m \u001b[38;5;66;03m# If we have self.arguments, we reset the values of self.arguments to their original values.\u001b[39;00m\n\u001b[0;32m    195\u001b[0m \u001b[38;5;28;01mfor\u001b[39;00m key, value \u001b[38;5;129;01min\u001b[39;00m original_values\u001b[38;5;241m.\u001b[39mitems():\n",
            "File \u001b[1;32mc:\\Users\\Fredrik\\Documents\\GitHub\\DeepTrack2\\examples\\Tutorial_review\\../..\\deeptrack\\backend\\core.py:307\u001b[0m, in \u001b[0;36mDeepTrackNode.__call__\u001b[1;34m(self, _ID)\u001b[0m\n\u001b[0;32m    304\u001b[0m         \u001b[38;5;28;01mpass\u001b[39;00m\n\u001b[0;32m    306\u001b[0m \u001b[38;5;28;01mif\u001b[39;00m \u001b[38;5;28mself\u001b[39m\u001b[38;5;241m.\u001b[39m_accepts_ID:\n\u001b[1;32m--> 307\u001b[0m     new_value \u001b[38;5;241m=\u001b[39m \u001b[38;5;28;43mself\u001b[39;49m\u001b[38;5;241;43m.\u001b[39;49m\u001b[43maction\u001b[49m\u001b[43m(\u001b[49m\u001b[43m_ID\u001b[49m\u001b[38;5;241;43m=\u001b[39;49m\u001b[43m_ID\u001b[49m\u001b[43m)\u001b[49m\n\u001b[0;32m    308\u001b[0m \u001b[38;5;28;01melse\u001b[39;00m:\n\u001b[0;32m    309\u001b[0m     new_value \u001b[38;5;241m=\u001b[39m \u001b[38;5;28mself\u001b[39m\u001b[38;5;241m.\u001b[39maction()\n",
            "File \u001b[1;32mc:\\Users\\Fredrik\\Documents\\GitHub\\DeepTrack2\\examples\\Tutorial_review\\../..\\deeptrack\\features.py:315\u001b[0m, in \u001b[0;36mFeature.action\u001b[1;34m(self, _ID)\u001b[0m\n\u001b[0;32m    308\u001b[0m image_list \u001b[38;5;241m=\u001b[39m \u001b[38;5;28mself\u001b[39m\u001b[38;5;241m.\u001b[39m_format_input(image_list, \u001b[38;5;241m*\u001b[39m\u001b[38;5;241m*\u001b[39mfeature_input)\n\u001b[0;32m    310\u001b[0m \u001b[38;5;66;03m# Set the seed from the hash_key. Ensures equal results\u001b[39;00m\n\u001b[0;32m    311\u001b[0m \u001b[38;5;66;03m# self.seed(_ID=_ID)\u001b[39;00m\n\u001b[0;32m    312\u001b[0m \n\u001b[0;32m    313\u001b[0m \u001b[38;5;66;03m# _process_and_get calls the get function correctly according\u001b[39;00m\n\u001b[0;32m    314\u001b[0m \u001b[38;5;66;03m# to the __distributed__ attribute\u001b[39;00m\n\u001b[1;32m--> 315\u001b[0m new_list \u001b[38;5;241m=\u001b[39m \u001b[38;5;28mself\u001b[39m\u001b[38;5;241m.\u001b[39m_process_and_get(image_list, \u001b[38;5;241m*\u001b[39m\u001b[38;5;241m*\u001b[39mfeature_input)\n\u001b[0;32m    317\u001b[0m \u001b[38;5;28mself\u001b[39m\u001b[38;5;241m.\u001b[39m_process_output(new_list, feature_input)\n\u001b[0;32m    320\u001b[0m \u001b[38;5;66;03m# Merge input and new_list\u001b[39;00m\n",
            "File \u001b[1;32mc:\\Users\\Fredrik\\Documents\\GitHub\\DeepTrack2\\examples\\Tutorial_review\\../..\\deeptrack\\features.py:683\u001b[0m, in \u001b[0;36mFeature._no_wrap_process_and_get\u001b[1;34m(self, image_list, **feature_input)\u001b[0m\n\u001b[0;32m    679\u001b[0m     \u001b[38;5;28;01mreturn\u001b[39;00m [\u001b[38;5;28mself\u001b[39m\u001b[38;5;241m.\u001b[39mget(x, \u001b[38;5;241m*\u001b[39m\u001b[38;5;241m*\u001b[39mfeature_input) \u001b[38;5;28;01mfor\u001b[39;00m x \u001b[38;5;129;01min\u001b[39;00m image_list]\n\u001b[0;32m    681\u001b[0m \u001b[38;5;28;01melse\u001b[39;00m:\n\u001b[0;32m    682\u001b[0m     \u001b[38;5;66;03m# Call get on entire list.\u001b[39;00m\n\u001b[1;32m--> 683\u001b[0m     new_list \u001b[38;5;241m=\u001b[39m \u001b[38;5;28mself\u001b[39m\u001b[38;5;241m.\u001b[39mget(image_list, \u001b[38;5;241m*\u001b[39m\u001b[38;5;241m*\u001b[39mfeature_input)\n\u001b[0;32m    685\u001b[0m     \u001b[38;5;28;01mif\u001b[39;00m \u001b[38;5;129;01mnot\u001b[39;00m \u001b[38;5;28misinstance\u001b[39m(new_list, \u001b[38;5;28mlist\u001b[39m):\n\u001b[0;32m    686\u001b[0m         new_list \u001b[38;5;241m=\u001b[39m [new_list]\n",
            "File \u001b[1;32mc:\\Users\\Fredrik\\Documents\\GitHub\\DeepTrack2\\examples\\Tutorial_review\\../..\\deeptrack\\features.py:776\u001b[0m, in \u001b[0;36mChain.get\u001b[1;34m(self, image, _ID, **kwargs)\u001b[0m\n\u001b[0;32m    774\u001b[0m \u001b[38;5;28;01mdef\u001b[39;00m \u001b[38;5;21mget\u001b[39m(\u001b[38;5;28mself\u001b[39m, image, _ID\u001b[38;5;241m=\u001b[39m(), \u001b[38;5;241m*\u001b[39m\u001b[38;5;241m*\u001b[39mkwargs):\n\u001b[0;32m    775\u001b[0m \u001b[38;5;250m    \u001b[39m\u001b[38;5;124;03m\"\"\"Resolves `feature_1` and `feature_2` sequentially\"\"\"\u001b[39;00m\n\u001b[1;32m--> 776\u001b[0m     image \u001b[38;5;241m=\u001b[39m \u001b[38;5;28;43mself\u001b[39;49m\u001b[38;5;241;43m.\u001b[39;49m\u001b[43mfeature_1\u001b[49m\u001b[43m(\u001b[49m\u001b[43mimage\u001b[49m\u001b[43m,\u001b[49m\u001b[43m \u001b[49m\u001b[43m_ID\u001b[49m\u001b[38;5;241;43m=\u001b[39;49m\u001b[43m_ID\u001b[49m\u001b[43m)\u001b[49m\n\u001b[0;32m    777\u001b[0m     image \u001b[38;5;241m=\u001b[39m \u001b[38;5;28mself\u001b[39m\u001b[38;5;241m.\u001b[39mfeature_2(image, _ID\u001b[38;5;241m=\u001b[39m_ID)\n\u001b[0;32m    778\u001b[0m     \u001b[38;5;28;01mreturn\u001b[39;00m image\n",
            "File \u001b[1;32mc:\\Users\\Fredrik\\Documents\\GitHub\\DeepTrack2\\examples\\Tutorial_review\\../..\\deeptrack\\features.py:192\u001b[0m, in \u001b[0;36mFeature.__call__\u001b[1;34m(self, image_list, _ID, **kwargs)\u001b[0m\n\u001b[0;32m    189\u001b[0m             \u001b[38;5;28mself\u001b[39m\u001b[38;5;241m.\u001b[39marguments\u001b[38;5;241m.\u001b[39mproperties[key]\u001b[38;5;241m.\u001b[39mset_value(value, _ID\u001b[38;5;241m=\u001b[39m_ID)\n\u001b[0;32m    191\u001b[0m \u001b[38;5;66;03m# This executes the feature. DeepTrackNode will determine if it needs to be recalculated. If it does, it will call the `action` method.\u001b[39;00m\n\u001b[1;32m--> 192\u001b[0m output \u001b[38;5;241m=\u001b[39m \u001b[38;5;28;43msuper\u001b[39;49m\u001b[43m(\u001b[49m\u001b[43mFeature\u001b[49m\u001b[43m,\u001b[49m\u001b[43m \u001b[49m\u001b[38;5;28;43mself\u001b[39;49m\u001b[43m)\u001b[49m\u001b[38;5;241;43m.\u001b[39;49m\u001b[38;5;21;43m__call__\u001b[39;49m\u001b[43m(\u001b[49m\u001b[43m_ID\u001b[49m\u001b[38;5;241;43m=\u001b[39;49m\u001b[43m_ID\u001b[49m\u001b[43m)\u001b[49m\n\u001b[0;32m    194\u001b[0m \u001b[38;5;66;03m# If we have self.arguments, we reset the values of self.arguments to their original values.\u001b[39;00m\n\u001b[0;32m    195\u001b[0m \u001b[38;5;28;01mfor\u001b[39;00m key, value \u001b[38;5;129;01min\u001b[39;00m original_values\u001b[38;5;241m.\u001b[39mitems():\n",
            "File \u001b[1;32mc:\\Users\\Fredrik\\Documents\\GitHub\\DeepTrack2\\examples\\Tutorial_review\\../..\\deeptrack\\backend\\core.py:307\u001b[0m, in \u001b[0;36mDeepTrackNode.__call__\u001b[1;34m(self, _ID)\u001b[0m\n\u001b[0;32m    304\u001b[0m         \u001b[38;5;28;01mpass\u001b[39;00m\n\u001b[0;32m    306\u001b[0m \u001b[38;5;28;01mif\u001b[39;00m \u001b[38;5;28mself\u001b[39m\u001b[38;5;241m.\u001b[39m_accepts_ID:\n\u001b[1;32m--> 307\u001b[0m     new_value \u001b[38;5;241m=\u001b[39m \u001b[38;5;28;43mself\u001b[39;49m\u001b[38;5;241;43m.\u001b[39;49m\u001b[43maction\u001b[49m\u001b[43m(\u001b[49m\u001b[43m_ID\u001b[49m\u001b[38;5;241;43m=\u001b[39;49m\u001b[43m_ID\u001b[49m\u001b[43m)\u001b[49m\n\u001b[0;32m    308\u001b[0m \u001b[38;5;28;01melse\u001b[39;00m:\n\u001b[0;32m    309\u001b[0m     new_value \u001b[38;5;241m=\u001b[39m \u001b[38;5;28mself\u001b[39m\u001b[38;5;241m.\u001b[39maction()\n",
            "File \u001b[1;32mc:\\Users\\Fredrik\\Documents\\GitHub\\DeepTrack2\\examples\\Tutorial_review\\../..\\deeptrack\\features.py:315\u001b[0m, in \u001b[0;36mFeature.action\u001b[1;34m(self, _ID)\u001b[0m\n\u001b[0;32m    308\u001b[0m image_list \u001b[38;5;241m=\u001b[39m \u001b[38;5;28mself\u001b[39m\u001b[38;5;241m.\u001b[39m_format_input(image_list, \u001b[38;5;241m*\u001b[39m\u001b[38;5;241m*\u001b[39mfeature_input)\n\u001b[0;32m    310\u001b[0m \u001b[38;5;66;03m# Set the seed from the hash_key. Ensures equal results\u001b[39;00m\n\u001b[0;32m    311\u001b[0m \u001b[38;5;66;03m# self.seed(_ID=_ID)\u001b[39;00m\n\u001b[0;32m    312\u001b[0m \n\u001b[0;32m    313\u001b[0m \u001b[38;5;66;03m# _process_and_get calls the get function correctly according\u001b[39;00m\n\u001b[0;32m    314\u001b[0m \u001b[38;5;66;03m# to the __distributed__ attribute\u001b[39;00m\n\u001b[1;32m--> 315\u001b[0m new_list \u001b[38;5;241m=\u001b[39m \u001b[38;5;28mself\u001b[39m\u001b[38;5;241m.\u001b[39m_process_and_get(image_list, \u001b[38;5;241m*\u001b[39m\u001b[38;5;241m*\u001b[39mfeature_input)\n\u001b[0;32m    317\u001b[0m \u001b[38;5;28mself\u001b[39m\u001b[38;5;241m.\u001b[39m_process_output(new_list, feature_input)\n\u001b[0;32m    320\u001b[0m \u001b[38;5;66;03m# Merge input and new_list\u001b[39;00m\n",
            "File \u001b[1;32mc:\\Users\\Fredrik\\Documents\\GitHub\\DeepTrack2\\examples\\Tutorial_review\\../..\\deeptrack\\features.py:683\u001b[0m, in \u001b[0;36mFeature._no_wrap_process_and_get\u001b[1;34m(self, image_list, **feature_input)\u001b[0m\n\u001b[0;32m    679\u001b[0m     \u001b[38;5;28;01mreturn\u001b[39;00m [\u001b[38;5;28mself\u001b[39m\u001b[38;5;241m.\u001b[39mget(x, \u001b[38;5;241m*\u001b[39m\u001b[38;5;241m*\u001b[39mfeature_input) \u001b[38;5;28;01mfor\u001b[39;00m x \u001b[38;5;129;01min\u001b[39;00m image_list]\n\u001b[0;32m    681\u001b[0m \u001b[38;5;28;01melse\u001b[39;00m:\n\u001b[0;32m    682\u001b[0m     \u001b[38;5;66;03m# Call get on entire list.\u001b[39;00m\n\u001b[1;32m--> 683\u001b[0m     new_list \u001b[38;5;241m=\u001b[39m \u001b[38;5;28mself\u001b[39m\u001b[38;5;241m.\u001b[39mget(image_list, \u001b[38;5;241m*\u001b[39m\u001b[38;5;241m*\u001b[39mfeature_input)\n\u001b[0;32m    685\u001b[0m     \u001b[38;5;28;01mif\u001b[39;00m \u001b[38;5;129;01mnot\u001b[39;00m \u001b[38;5;28misinstance\u001b[39m(new_list, \u001b[38;5;28mlist\u001b[39m):\n\u001b[0;32m    686\u001b[0m         new_list \u001b[38;5;241m=\u001b[39m [new_list]\n",
            "File \u001b[1;32mc:\\Users\\Fredrik\\Documents\\GitHub\\DeepTrack2\\examples\\Tutorial_review\\../..\\deeptrack\\features.py:776\u001b[0m, in \u001b[0;36mChain.get\u001b[1;34m(self, image, _ID, **kwargs)\u001b[0m\n\u001b[0;32m    774\u001b[0m \u001b[38;5;28;01mdef\u001b[39;00m \u001b[38;5;21mget\u001b[39m(\u001b[38;5;28mself\u001b[39m, image, _ID\u001b[38;5;241m=\u001b[39m(), \u001b[38;5;241m*\u001b[39m\u001b[38;5;241m*\u001b[39mkwargs):\n\u001b[0;32m    775\u001b[0m \u001b[38;5;250m    \u001b[39m\u001b[38;5;124;03m\"\"\"Resolves `feature_1` and `feature_2` sequentially\"\"\"\u001b[39;00m\n\u001b[1;32m--> 776\u001b[0m     image \u001b[38;5;241m=\u001b[39m \u001b[38;5;28;43mself\u001b[39;49m\u001b[38;5;241;43m.\u001b[39;49m\u001b[43mfeature_1\u001b[49m\u001b[43m(\u001b[49m\u001b[43mimage\u001b[49m\u001b[43m,\u001b[49m\u001b[43m \u001b[49m\u001b[43m_ID\u001b[49m\u001b[38;5;241;43m=\u001b[39;49m\u001b[43m_ID\u001b[49m\u001b[43m)\u001b[49m\n\u001b[0;32m    777\u001b[0m     image \u001b[38;5;241m=\u001b[39m \u001b[38;5;28mself\u001b[39m\u001b[38;5;241m.\u001b[39mfeature_2(image, _ID\u001b[38;5;241m=\u001b[39m_ID)\n\u001b[0;32m    778\u001b[0m     \u001b[38;5;28;01mreturn\u001b[39;00m image\n",
            "    \u001b[1;31m[... skipping similar frames: Feature.__call__ at line 192 (3 times), DeepTrackNode.__call__ at line 307 (3 times), Feature.action at line 315 (3 times), Feature._no_wrap_process_and_get at line 683 (2 times), Chain.get at line 776 (2 times)]\u001b[0m\n",
            "File \u001b[1;32mc:\\Users\\Fredrik\\Documents\\GitHub\\DeepTrack2\\examples\\Tutorial_review\\../..\\deeptrack\\features.py:683\u001b[0m, in \u001b[0;36mFeature._no_wrap_process_and_get\u001b[1;34m(self, image_list, **feature_input)\u001b[0m\n\u001b[0;32m    679\u001b[0m     \u001b[38;5;28;01mreturn\u001b[39;00m [\u001b[38;5;28mself\u001b[39m\u001b[38;5;241m.\u001b[39mget(x, \u001b[38;5;241m*\u001b[39m\u001b[38;5;241m*\u001b[39mfeature_input) \u001b[38;5;28;01mfor\u001b[39;00m x \u001b[38;5;129;01min\u001b[39;00m image_list]\n\u001b[0;32m    681\u001b[0m \u001b[38;5;28;01melse\u001b[39;00m:\n\u001b[0;32m    682\u001b[0m     \u001b[38;5;66;03m# Call get on entire list.\u001b[39;00m\n\u001b[1;32m--> 683\u001b[0m     new_list \u001b[38;5;241m=\u001b[39m \u001b[38;5;28mself\u001b[39m\u001b[38;5;241m.\u001b[39mget(image_list, \u001b[38;5;241m*\u001b[39m\u001b[38;5;241m*\u001b[39mfeature_input)\n\u001b[0;32m    685\u001b[0m     \u001b[38;5;28;01mif\u001b[39;00m \u001b[38;5;129;01mnot\u001b[39;00m \u001b[38;5;28misinstance\u001b[39m(new_list, \u001b[38;5;28mlist\u001b[39m):\n\u001b[0;32m    686\u001b[0m         new_list \u001b[38;5;241m=\u001b[39m [new_list]\n",
            "File \u001b[1;32mc:\\Users\\Fredrik\\Documents\\GitHub\\DeepTrack2\\examples\\Tutorial_review\\../..\\deeptrack\\features.py:776\u001b[0m, in \u001b[0;36mChain.get\u001b[1;34m(self, image, _ID, **kwargs)\u001b[0m\n\u001b[0;32m    774\u001b[0m \u001b[38;5;28;01mdef\u001b[39;00m \u001b[38;5;21mget\u001b[39m(\u001b[38;5;28mself\u001b[39m, image, _ID\u001b[38;5;241m=\u001b[39m(), \u001b[38;5;241m*\u001b[39m\u001b[38;5;241m*\u001b[39mkwargs):\n\u001b[0;32m    775\u001b[0m \u001b[38;5;250m    \u001b[39m\u001b[38;5;124;03m\"\"\"Resolves `feature_1` and `feature_2` sequentially\"\"\"\u001b[39;00m\n\u001b[1;32m--> 776\u001b[0m     image \u001b[38;5;241m=\u001b[39m \u001b[38;5;28;43mself\u001b[39;49m\u001b[38;5;241;43m.\u001b[39;49m\u001b[43mfeature_1\u001b[49m\u001b[43m(\u001b[49m\u001b[43mimage\u001b[49m\u001b[43m,\u001b[49m\u001b[43m \u001b[49m\u001b[43m_ID\u001b[49m\u001b[38;5;241;43m=\u001b[39;49m\u001b[43m_ID\u001b[49m\u001b[43m)\u001b[49m\n\u001b[0;32m    777\u001b[0m     image \u001b[38;5;241m=\u001b[39m \u001b[38;5;28mself\u001b[39m\u001b[38;5;241m.\u001b[39mfeature_2(image, _ID\u001b[38;5;241m=\u001b[39m_ID)\n\u001b[0;32m    778\u001b[0m     \u001b[38;5;28;01mreturn\u001b[39;00m image\n",
            "File \u001b[1;32mc:\\Users\\Fredrik\\Documents\\GitHub\\DeepTrack2\\examples\\Tutorial_review\\../..\\deeptrack\\features.py:192\u001b[0m, in \u001b[0;36mFeature.__call__\u001b[1;34m(self, image_list, _ID, **kwargs)\u001b[0m\n\u001b[0;32m    189\u001b[0m             \u001b[38;5;28mself\u001b[39m\u001b[38;5;241m.\u001b[39marguments\u001b[38;5;241m.\u001b[39mproperties[key]\u001b[38;5;241m.\u001b[39mset_value(value, _ID\u001b[38;5;241m=\u001b[39m_ID)\n\u001b[0;32m    191\u001b[0m \u001b[38;5;66;03m# This executes the feature. DeepTrackNode will determine if it needs to be recalculated. If it does, it will call the `action` method.\u001b[39;00m\n\u001b[1;32m--> 192\u001b[0m output \u001b[38;5;241m=\u001b[39m \u001b[38;5;28;43msuper\u001b[39;49m\u001b[43m(\u001b[49m\u001b[43mFeature\u001b[49m\u001b[43m,\u001b[49m\u001b[43m \u001b[49m\u001b[38;5;28;43mself\u001b[39;49m\u001b[43m)\u001b[49m\u001b[38;5;241;43m.\u001b[39;49m\u001b[38;5;21;43m__call__\u001b[39;49m\u001b[43m(\u001b[49m\u001b[43m_ID\u001b[49m\u001b[38;5;241;43m=\u001b[39;49m\u001b[43m_ID\u001b[49m\u001b[43m)\u001b[49m\n\u001b[0;32m    194\u001b[0m \u001b[38;5;66;03m# If we have self.arguments, we reset the values of self.arguments to their original values.\u001b[39;00m\n\u001b[0;32m    195\u001b[0m \u001b[38;5;28;01mfor\u001b[39;00m key, value \u001b[38;5;129;01min\u001b[39;00m original_values\u001b[38;5;241m.\u001b[39mitems():\n",
            "File \u001b[1;32mc:\\Users\\Fredrik\\Documents\\GitHub\\DeepTrack2\\examples\\Tutorial_review\\../..\\deeptrack\\backend\\core.py:307\u001b[0m, in \u001b[0;36mDeepTrackNode.__call__\u001b[1;34m(self, _ID)\u001b[0m\n\u001b[0;32m    304\u001b[0m         \u001b[38;5;28;01mpass\u001b[39;00m\n\u001b[0;32m    306\u001b[0m \u001b[38;5;28;01mif\u001b[39;00m \u001b[38;5;28mself\u001b[39m\u001b[38;5;241m.\u001b[39m_accepts_ID:\n\u001b[1;32m--> 307\u001b[0m     new_value \u001b[38;5;241m=\u001b[39m \u001b[38;5;28;43mself\u001b[39;49m\u001b[38;5;241;43m.\u001b[39;49m\u001b[43maction\u001b[49m\u001b[43m(\u001b[49m\u001b[43m_ID\u001b[49m\u001b[38;5;241;43m=\u001b[39;49m\u001b[43m_ID\u001b[49m\u001b[43m)\u001b[49m\n\u001b[0;32m    308\u001b[0m \u001b[38;5;28;01melse\u001b[39;00m:\n\u001b[0;32m    309\u001b[0m     new_value \u001b[38;5;241m=\u001b[39m \u001b[38;5;28mself\u001b[39m\u001b[38;5;241m.\u001b[39maction()\n",
            "File \u001b[1;32mc:\\Users\\Fredrik\\Documents\\GitHub\\DeepTrack2\\examples\\Tutorial_review\\../..\\deeptrack\\features.py:315\u001b[0m, in \u001b[0;36mFeature.action\u001b[1;34m(self, _ID)\u001b[0m\n\u001b[0;32m    308\u001b[0m image_list \u001b[38;5;241m=\u001b[39m \u001b[38;5;28mself\u001b[39m\u001b[38;5;241m.\u001b[39m_format_input(image_list, \u001b[38;5;241m*\u001b[39m\u001b[38;5;241m*\u001b[39mfeature_input)\n\u001b[0;32m    310\u001b[0m \u001b[38;5;66;03m# Set the seed from the hash_key. Ensures equal results\u001b[39;00m\n\u001b[0;32m    311\u001b[0m \u001b[38;5;66;03m# self.seed(_ID=_ID)\u001b[39;00m\n\u001b[0;32m    312\u001b[0m \n\u001b[0;32m    313\u001b[0m \u001b[38;5;66;03m# _process_and_get calls the get function correctly according\u001b[39;00m\n\u001b[0;32m    314\u001b[0m \u001b[38;5;66;03m# to the __distributed__ attribute\u001b[39;00m\n\u001b[1;32m--> 315\u001b[0m new_list \u001b[38;5;241m=\u001b[39m \u001b[38;5;28mself\u001b[39m\u001b[38;5;241m.\u001b[39m_process_and_get(image_list, \u001b[38;5;241m*\u001b[39m\u001b[38;5;241m*\u001b[39mfeature_input)\n\u001b[0;32m    317\u001b[0m \u001b[38;5;28mself\u001b[39m\u001b[38;5;241m.\u001b[39m_process_output(new_list, feature_input)\n\u001b[0;32m    320\u001b[0m \u001b[38;5;66;03m# Merge input and new_list\u001b[39;00m\n",
            "File \u001b[1;32mc:\\Users\\Fredrik\\Documents\\GitHub\\DeepTrack2\\examples\\Tutorial_review\\../..\\deeptrack\\augmentations.py:85\u001b[0m, in \u001b[0;36mAugmentation._no_wrap_process_and_get\u001b[1;34m(self, image_list, time_consistent, **kwargs)\u001b[0m\n\u001b[0;32m     83\u001b[0m \u001b[38;5;28;01mfor\u001b[39;00m image \u001b[38;5;129;01min\u001b[39;00m image_list:\n\u001b[0;32m     84\u001b[0m     \u001b[38;5;28mself\u001b[39m\u001b[38;5;241m.\u001b[39mseed()\n\u001b[1;32m---> 85\u001b[0m     augmented_image \u001b[38;5;241m=\u001b[39m \u001b[38;5;28mself\u001b[39m\u001b[38;5;241m.\u001b[39mget(image, \u001b[38;5;241m*\u001b[39m\u001b[38;5;241m*\u001b[39mkwargs)\n\u001b[0;32m     86\u001b[0m     augmented_list\u001b[38;5;241m.\u001b[39mappend(augmented_image)\n\u001b[0;32m     88\u001b[0m new_list_of_lists\u001b[38;5;241m.\u001b[39mappend(augmented_list)\n",
            "File \u001b[1;32mc:\\Users\\Fredrik\\Documents\\GitHub\\DeepTrack2\\examples\\Tutorial_review\\../..\\deeptrack\\augmentations.py:430\u001b[0m, in \u001b[0;36mAffine.get\u001b[1;34m(self, image, scale, translate, rotate, shear, **kwargs)\u001b[0m\n\u001b[0;32m    428\u001b[0m \u001b[38;5;66;03m# Map positions\u001b[39;00m\n\u001b[0;32m    429\u001b[0m inverse_mapping \u001b[38;5;241m=\u001b[39m np\u001b[38;5;241m.\u001b[39mlinalg\u001b[38;5;241m.\u001b[39minv(mapping)\n\u001b[1;32m--> 430\u001b[0m \u001b[38;5;28;01mfor\u001b[39;00m prop \u001b[38;5;129;01min\u001b[39;00m \u001b[43mimage\u001b[49m\u001b[38;5;241;43m.\u001b[39;49m\u001b[43mproperties\u001b[49m:\n\u001b[0;32m    431\u001b[0m     \u001b[38;5;28;01mif\u001b[39;00m \u001b[38;5;124m\"\u001b[39m\u001b[38;5;124mposition\u001b[39m\u001b[38;5;124m\"\u001b[39m \u001b[38;5;129;01min\u001b[39;00m prop:\n\u001b[0;32m    432\u001b[0m         position \u001b[38;5;241m=\u001b[39m np\u001b[38;5;241m.\u001b[39marray(prop[\u001b[38;5;124m\"\u001b[39m\u001b[38;5;124mposition\u001b[39m\u001b[38;5;124m\"\u001b[39m])\n",
            "\u001b[1;31mAttributeError\u001b[0m: 'numpy.ndarray' object has no attribute 'properties'"
          ]
        },
        {
          "data": {
            "image/png": "[encoded data removed]",
            "text/plain": [
              "<Figure size 600x600 with 1 Axes>"
            ]
          },
          "metadata": {},
          "output_type": "display_data"
        }
      ],
      "source": [
        "val = training_data.update()()\n",
        "training_set = dt.Value(lambda: np.array(val))\n",
        "\n",
        "#3x3 grid of augmented images\n",
        "plt.figure(figsize=(6, 6))\n",
        "for i in range(9):\n",
        "    plt.subplot(3, 3, i+1)\n",
        "    (training_set >> group).update().plot(cmap = 'gray')\n",
        "    plt.axis('off')"
      ]
    },
    {
      "cell_type": "markdown",
      "id": "a2b38efd",
      "metadata": {},
      "source": [
        "### 2.4 Training detection model (LodeSTAR)"
      ]
    },
    {
      "cell_type": "code",
      "execution_count": null,
      "id": "1bf0c230",
      "metadata": {
        "execution": {
          "iopub.execute_input": "2022-06-29T20:23:05.034711Z",
          "iopub.status.busy": "2022-06-29T20:23:05.034212Z",
          "iopub.status.idle": "2022-06-29T20:23:05.036711Z",
          "shell.execute_reply": "2022-06-29T20:23:05.036711Z"
        }
      },
      "outputs": [],
      "source": [
        "generator = dt.models.lodestar.LodeSTARGenerator(\n",
        "    training_set,\n",
        "    2,\n",
        "    (group, equivariance), \n",
        "    batch_size=8, \n",
        "    min_data_size=200, \n",
        "    max_data_size=201\n",
        ")"
      ]
    },
    {
      "cell_type": "code",
      "execution_count": null,
      "id": "53c86817",
      "metadata": {
        "execution": {
          "iopub.execute_input": "2022-06-29T20:23:05.039711Z",
          "iopub.status.busy": "2022-06-29T20:23:05.039211Z",
          "iopub.status.idle": "2022-06-29T20:24:12.408452Z",
          "shell.execute_reply": "2022-06-29T20:24:12.407953Z"
        }
      },
      "outputs": [
        {
          "name": "stdout",
          "output_type": "stream",
          "text": [
            "Generating 201 / 200 samples before starting training\n",
            "Epoch 1/50\n",
            "100/100 [==============================] - 4s 17ms/step - total_loss: 2.0311 - consistency_loss: 1.2046\n",
            "Epoch 2/50\n",
            "100/100 [==============================] - 2s 16ms/step - total_loss: 1.9200 - consistency_loss: 1.1470\n",
            "Epoch 3/50\n",
            "100/100 [==============================] - 1s 12ms/step - total_loss: 1.8751 - consistency_loss: 1.0425\n",
            "Epoch 4/50\n",
            "100/100 [==============================] - 2s 15ms/step - total_loss: 2.2075 - consistency_loss: 0.9319\n",
            "Epoch 5/50\n",
            "100/100 [==============================] - 2s 17ms/step - total_loss: 1.8752 - consistency_loss: 0.9286\n",
            "Epoch 6/50\n",
            "100/100 [==============================] - 2s 17ms/step - total_loss: 1.5884 - consistency_loss: 0.7163\n",
            "Epoch 7/50\n",
            "100/100 [==============================] - 2s 17ms/step - total_loss: 1.4570 - consistency_loss: 0.5994\n",
            "Epoch 8/50\n",
            "100/100 [==============================] - 2s 16ms/step - total_loss: 1.3539 - consistency_loss: 0.5199\n",
            "Epoch 9/50\n",
            "100/100 [==============================] - 2s 17ms/step - total_loss: 1.1646 - consistency_loss: 0.3623\n",
            "Epoch 10/50\n",
            "100/100 [==============================] - 2s 17ms/step - total_loss: 1.1011 - consistency_loss: 0.2837\n",
            "Epoch 11/50\n",
            "100/100 [==============================] - 2s 17ms/step - total_loss: 1.0045 - consistency_loss: 0.1947\n",
            "Epoch 12/50\n",
            "100/100 [==============================] - 2s 16ms/step - total_loss: 0.9709 - consistency_loss: 0.1571\n",
            "Epoch 13/50\n",
            "100/100 [==============================] - 2s 16ms/step - total_loss: 0.9124 - consistency_loss: 0.1043\n",
            "Epoch 14/50\n",
            "100/100 [==============================] - 2s 17ms/step - total_loss: 0.9614 - consistency_loss: 0.0947\n",
            "Epoch 15/50\n",
            "100/100 [==============================] - 1s 14ms/step - total_loss: 0.8605 - consistency_loss: 0.0731\n",
            "Epoch 16/50\n",
            "100/100 [==============================] - 1s 11ms/step - total_loss: 0.8838 - consistency_loss: 0.0654\n",
            "Epoch 17/50\n",
            "100/100 [==============================] - 1s 14ms/step - total_loss: 0.8427 - consistency_loss: 0.0515\n",
            "Epoch 18/50\n",
            "100/100 [==============================] - 2s 17ms/step - total_loss: 0.8496 - consistency_loss: 0.0676\n",
            "Epoch 19/50\n",
            "100/100 [==============================] - 2s 17ms/step - total_loss: 0.8342 - consistency_loss: 0.0446\n",
            "Epoch 20/50\n",
            "100/100 [==============================] - 1s 13ms/step - total_loss: 0.8492 - consistency_loss: 0.0482\n",
            "Epoch 21/50\n",
            "100/100 [==============================] - 1s 15ms/step - total_loss: 0.8611 - consistency_loss: 0.0434\n",
            "Epoch 22/50\n",
            "100/100 [==============================] - 2s 16ms/step - total_loss: 0.8713 - consistency_loss: 0.0592\n",
            "Epoch 23/50\n",
            "100/100 [==============================] - 2s 15ms/step - total_loss: 0.8774 - consistency_loss: 0.0631\n",
            "Epoch 24/50\n",
            "100/100 [==============================] - 1s 13ms/step - total_loss: 0.8381 - consistency_loss: 0.0341\n",
            "Epoch 25/50\n",
            "100/100 [==============================] - 2s 17ms/step - total_loss: 0.8896 - consistency_loss: 0.0526\n",
            "Epoch 26/50\n",
            "100/100 [==============================] - 2s 16ms/step - total_loss: 0.8204 - consistency_loss: 0.0215\n",
            "Epoch 27/50\n",
            "100/100 [==============================] - 2s 17ms/step - total_loss: 0.8023 - consistency_loss: 0.0155\n",
            "Epoch 28/50\n",
            "100/100 [==============================] - 1s 15ms/step - total_loss: 0.7957 - consistency_loss: 0.0171\n",
            "Epoch 29/50\n",
            "100/100 [==============================] - 1s 12ms/step - total_loss: 0.7822 - consistency_loss: 0.0196\n",
            "Epoch 30/50\n",
            "100/100 [==============================] - 2s 16ms/step - total_loss: 0.7636 - consistency_loss: 0.0117\n",
            "Epoch 31/50\n",
            "100/100 [==============================] - 2s 16ms/step - total_loss: 0.7134 - consistency_loss: 0.0129\n",
            "Epoch 32/50\n",
            "100/100 [==============================] - 2s 17ms/step - total_loss: 0.7517 - consistency_loss: 0.0208\n",
            "Epoch 33/50\n",
            "100/100 [==============================] - 1s 10ms/step - total_loss: 0.7580 - consistency_loss: 0.0043\n",
            "Epoch 34/50\n",
            "100/100 [==============================] - 1s 11ms/step - total_loss: 0.6494 - consistency_loss: 0.0224\n",
            "Epoch 35/50\n",
            "100/100 [==============================] - 1s 11ms/step - total_loss: 0.7404 - consistency_loss: 0.0099\n",
            "Epoch 36/50\n",
            "100/100 [==============================] - 1s 13ms/step - total_loss: 0.7011 - consistency_loss: 0.0513\n",
            "Epoch 37/50\n",
            "100/100 [==============================] - 2s 17ms/step - total_loss: 0.4351 - consistency_loss: 0.0061\n",
            "Epoch 38/50\n",
            "100/100 [==============================] - 2s 17ms/step - total_loss: 0.1778 - consistency_loss: 0.0105\n",
            "Epoch 39/50\n",
            "100/100 [==============================] - 2s 17ms/step - total_loss: 0.1372 - consistency_loss: 0.0054\n",
            "Epoch 40/50\n",
            "100/100 [==============================] - 1s 13ms/step - total_loss: 0.1154 - consistency_loss: 0.0047\n",
            "Epoch 41/50\n",
            "100/100 [==============================] - 1s 15ms/step - total_loss: 0.0938 - consistency_loss: 0.0041\n",
            "Epoch 42/50\n",
            "100/100 [==============================] - 1s 13ms/step - total_loss: 0.0796 - consistency_loss: 0.0030\n",
            "Epoch 43/50\n",
            "100/100 [==============================] - 1s 14ms/step - total_loss: 0.0669 - consistency_loss: 0.0019\n",
            "Epoch 44/50\n",
            "100/100 [==============================] - 2s 16ms/step - total_loss: 0.0670 - consistency_loss: 0.0024\n",
            "Epoch 45/50\n",
            "100/100 [==============================] - 1s 13ms/step - total_loss: 0.0662 - consistency_loss: 0.0032\n",
            "Epoch 46/50\n",
            "100/100 [==============================] - 1s 14ms/step - total_loss: 0.0751 - consistency_loss: 0.0058\n",
            "Epoch 47/50\n",
            "100/100 [==============================] - 2s 16ms/step - total_loss: 0.0683 - consistency_loss: 0.0033\n",
            "Epoch 48/50\n",
            "100/100 [==============================] - 1s 12ms/step - total_loss: 0.0658 - consistency_loss: 0.0066\n",
            "Epoch 49/50\n",
            "100/100 [==============================] - 2s 16ms/step - total_loss: 0.0574 - consistency_loss: 0.0033\n",
            "Epoch 50/50\n",
            "100/100 [==============================] - 1s 13ms/step - total_loss: 0.0492 - consistency_loss: 0.0021\n"
          ]
        }
      ],
      "source": [
        "\n",
        "with generator:\n",
        "    model = dt.models.LodeSTAR(input_shape=(None, None, 2), num_outputs=2)\n",
        "    model.compile(loss=\"mae\", optimizer=tf.keras.optimizers.Adam())\n",
        "    \n",
        "    loss = model.fit(generator, epochs=50, steps_per_epoch=100)\n"
      ]
    },
    {
      "cell_type": "code",
      "execution_count": null,
      "id": "67c44129",
      "metadata": {},
      "outputs": [
        {
          "data": {
            "image/png": "[encoded data removed]",
            "text/plain": [
              "<Figure size 600x300 with 1 Axes>"
            ]
          },
          "metadata": {},
          "output_type": "display_data"
        }
      ],
      "source": [
        "plt.figure(figsize = (6,3))\n",
        "plt.plot(loss.history[\"total_loss\"], color=\"darkblue\", label=\"Total loss\")\n",
        "plt.plot(loss.history[\"consistency_loss\"], linestyle=\"--\", color=\"darkorange\", label=\"Consistency loss\")\n",
        "plt.legend()\n",
        "plt.xlabel(\"Epoch\")\n",
        "plt.ylabel(\"Loss\")\n",
        "plt.show()"
      ]
    },
    {
      "cell_type": "code",
      "execution_count": 35,
      "id": "9663bab4",
      "metadata": {},
      "outputs": [
        {
          "ename": "AttributeError",
          "evalue": "",
          "output_type": "error",
          "traceback": [
            "\u001b[1;31m---------------------------------------------------------------------------\u001b[0m",
            "\u001b[1;31mAttributeError\u001b[0m                            Traceback (most recent call last)",
            "Cell \u001b[1;32mIn[35], line 5\u001b[0m\n\u001b[0;32m      3\u001b[0m \u001b[38;5;28;01mfor\u001b[39;00m i \u001b[38;5;129;01min\u001b[39;00m \u001b[38;5;28mrange\u001b[39m(\u001b[38;5;241m9\u001b[39m):\n\u001b[0;32m      4\u001b[0m     validation_data \u001b[38;5;241m=\u001b[39m training_data\u001b[38;5;241m.\u001b[39mupdate()\n\u001b[1;32m----> 5\u001b[0m     ground_truth_position \u001b[38;5;241m=\u001b[39m \u001b[43mvalidation_data\u001b[49m\u001b[38;5;241;43m.\u001b[39;49m\u001b[43mget_property\u001b[49m(\u001b[38;5;124m\"\u001b[39m\u001b[38;5;124mposition\u001b[39m\u001b[38;5;124m\"\u001b[39m) \n\u001b[0;32m      7\u001b[0m     prediction \u001b[38;5;241m=\u001b[39m model\u001b[38;5;241m.\u001b[39mpredict_and_pool(np\u001b[38;5;241m.\u001b[39mexpand_dims(validation_data, axis \u001b[38;5;241m=\u001b[39m \u001b[38;5;241m0\u001b[39m))\n\u001b[0;32m      9\u001b[0m     plt\u001b[38;5;241m.\u001b[39msubplot(\u001b[38;5;241m3\u001b[39m, \u001b[38;5;241m3\u001b[39m, i\u001b[38;5;241m+\u001b[39m\u001b[38;5;241m1\u001b[39m)\n",
            "File \u001b[1;32mc:\\Users\\Fredrik\\Documents\\GitHub\\DeepTrack2\\examples\\Tutorial_review\\../..\\deeptrack\\features.py:500\u001b[0m, in \u001b[0;36mFeature.__getattr__\u001b[1;34m(self, key)\u001b[0m\n\u001b[0;32m    498\u001b[0m         \u001b[38;5;28;01mreturn\u001b[39;00m properties[key]\n\u001b[0;32m    499\u001b[0m     \u001b[38;5;28;01melse\u001b[39;00m:\n\u001b[1;32m--> 500\u001b[0m         \u001b[38;5;28;01mraise\u001b[39;00m \u001b[38;5;167;01mAttributeError\u001b[39;00m\n\u001b[0;32m    501\u001b[0m \u001b[38;5;28;01melse\u001b[39;00m:\n\u001b[0;32m    502\u001b[0m     \u001b[38;5;28;01mraise\u001b[39;00m \u001b[38;5;167;01mAttributeError\u001b[39;00m\n",
            "\u001b[1;31mAttributeError\u001b[0m: "
          ]
        },
        {
          "data": {
            "text/plain": [
              "<Figure size 600x600 with 0 Axes>"
            ]
          },
          "metadata": {},
          "output_type": "display_data"
        }
      ],
      "source": [
        "#3x3 grid of augmented images\n",
        "plt.figure(figsize=(6, 6))\n",
        "for i in range(9):\n",
        "    validation_data = training_data.update()()\n",
        "    ground_truth_position = validation_data.get_property(\"position\") \n",
        "\n",
        "    prediction = model.predict_and_pool(np.expand_dims(validation_data, axis = 0))\n",
        "\n",
        "    plt.subplot(3, 3, i+1)\n",
        "    plt.imshow(validation_data[...,0], cmap=\"gray\")\n",
        "    plt.scatter(prediction[0, 1], prediction[:, 0], s=800, linewidths=4, marker=\"o\", facecolors=\"none\", edgecolors=\"darkblue\")\n",
        "    plt.axis(\"off\")"
      ]
    },
    {
      "cell_type": "markdown",
      "id": "c07e6fd4",
      "metadata": {},
      "source": [
        "## 3. Quantification in brightfield"
      ]
    },
    {
      "cell_type": "markdown",
      "id": "943d8c8a",
      "metadata": {},
      "source": [
        "### 3.1 Defining the optical system\n",
        "\n",
        "xxx"
      ]
    },
    {
      "cell_type": "code",
      "execution_count": 13,
      "id": "f1451cae",
      "metadata": {},
      "outputs": [],
      "source": [
        "IMAGE_SIZE = 32\n",
        "NA = 1.3\n",
        "MAGNIFICATION = 1\n",
        "WAVELENGTH = 633e-9\n",
        "RESOLUTION = 2*1.14e-7"
      ]
    },
    {
      "cell_type": "code",
      "execution_count": 14,
      "id": "09e0e445",
      "metadata": {},
      "outputs": [],
      "source": [
        "optics = dt.Brightfield(\n",
        "    NA=NA,\n",
        "    magnification=MAGNIFICATION,\n",
        "    wavelength=WAVELENGTH,\n",
        "    resolution=RESOLUTION,\n",
        "    return_field=True, \n",
        "    output_region=(0, 0, IMAGE_SIZE, IMAGE_SIZE),\n",
        "    illumination_angle = np.pi\n",
        ")"
      ]
    },
    {
      "cell_type": "markdown",
      "id": "bfeda9f0",
      "metadata": {},
      "source": [
        "### 3.2 Defining the particle(s)"
      ]
    },
    {
      "cell_type": "code",
      "execution_count": 15,
      "id": "4fbc8034",
      "metadata": {},
      "outputs": [],
      "source": [
        "RADIUS_RANGE = (25e-9, 200e-9)\n",
        "REFRACTIVE_INDEX_RANGE = (1.37, 1.6)"
      ]
    },
    {
      "cell_type": "code",
      "execution_count": 16,
      "id": "3cad7e5e",
      "metadata": {},
      "outputs": [],
      "source": [
        "particle = dt.MieSphere(\n",
        "    position=lambda: (IMAGE_SIZE / 2, IMAGE_SIZE / 2) + np.random.rand(2) * 4 - 2,\n",
        "    z=lambda: np.random.randn() * 2,\n",
        "    radius=lambda:np.random.uniform(*RADIUS_RANGE),\n",
        "    refractive_index=lambda: np.random.uniform(*REFRACTIVE_INDEX_RANGE),\n",
        "    L=8,\n",
        "    position_unit=\"pixel\",\n",
        ")"
      ]
    },
    {
      "cell_type": "markdown",
      "id": "d3da092b",
      "metadata": {},
      "source": [
        "### 3.3 Create dataset of particles"
      ]
    },
    {
      "cell_type": "markdown",
      "id": "8470f87c",
      "metadata": {},
      "source": [
        "The noise is simulated as gaussian distributed noise, with independent real and imaginary parts. The amplitude of the noise is determined by the dummy property `level`, which is explicitly shared between the two features. Finally, the real and imaginary parts of the field are separated into two layers, and the plane wave is subtracted."
      ]
    },
    {
      "cell_type": "code",
      "execution_count": 17,
      "id": "d1c86494",
      "metadata": {},
      "outputs": [],
      "source": [
        "real_noise = dt.Gaussian(\n",
        "    mu=0, \n",
        "    sigma=lambda: np.random.rand() * 0.02,\n",
        ")\n",
        "\n",
        "noise = real_noise >> dt.Gaussian(\n",
        "    mu=0, \n",
        "    sigma=lambda real_sigma: real_sigma * 0.03j,\n",
        "    real_sigma=real_noise.sigma\n",
        ")\n",
        "\n",
        "def func():\n",
        "    def inner(image):\n",
        "        image = image - 1\n",
        "        output = np.zeros((*image.shape[:2], 2))\n",
        "        output[..., 0:1] = np.real(image)\n",
        "        output[..., 1:2] = np.imag(image)\n",
        "        return output\n",
        "    return inner\n",
        "\n",
        "\n",
        "complex_to_float = dt.Lambda(func)"
      ]
    },
    {
      "cell_type": "markdown",
      "id": "54c666f3",
      "metadata": {},
      "source": [
        "We now define how these objects combine. Note that the noise is added inside the optics. This means that it will have the same PSF as the sample, which is what is observed. "
      ]
    },
    {
      "cell_type": "code",
      "execution_count": 18,
      "id": "c91bc156",
      "metadata": {},
      "outputs": [],
      "source": [
        "noisy_dataset = optics(particle >> noise) >> complex_to_float\n",
        "clean_dataset = optics(particle) >> complex_to_float\n",
        "\n",
        "dataset = noisy_dataset & clean_dataset"
      ]
    },
    {
      "cell_type": "code",
      "execution_count": 19,
      "id": "ea3a6236",
      "metadata": {},
      "outputs": [
        {
          "data": {
            "image/png": "[encoded data removed]",
            "text/plain": [
              "<Figure size 600x600 with 9 Axes>"
            ]
          },
          "metadata": {},
          "output_type": "display_data"
        }
      ],
      "source": [
        "#3x3 grid of augmented images\n",
        "plt.figure(figsize=(6, 6))\n",
        "for i in range(9):\n",
        "    plt.subplot(3, 3, i+1)\n",
        "    img = dataset.update().resolve()\n",
        "    plt.imshow(img[0][...,1], cmap=\"gray\")\n",
        "    plt.axis('off')"
      ]
    },
    {
      "cell_type": "markdown",
      "id": "1d0e1753",
      "metadata": {},
      "source": [
        "### 3.4 Defining the training label\n",
        "\n",
        "We extract the parameters we want the network to learn. This is the integrated signal."
      ]
    },
    {
      "cell_type": "code",
      "execution_count": 20,
      "id": "b8914b18",
      "metadata": {},
      "outputs": [],
      "source": [
        "def get_label(image):\n",
        "    return np.array(np.sum(image[1][...,1]))"
      ]
    },
    {
      "cell_type": "code",
      "execution_count": 21,
      "id": "6cf8e4c6",
      "metadata": {},
      "outputs": [],
      "source": [
        "def get_polarizability(image):\n",
        "    r = image[0].get_property(\"radius\")\n",
        "    n = image[0].get_property(\"refractive_index\") - 1.33\n",
        "    return np.array(4/3 * np.pi * r**3 * n)"
      ]
    },
    {
      "cell_type": "code",
      "execution_count": 22,
      "id": "5617fbff",
      "metadata": {},
      "outputs": [],
      "source": [
        "def batch_function(image):\n",
        "    return np.array(image[0])"
      ]
    },
    {
      "cell_type": "markdown",
      "id": "140c656c",
      "metadata": {},
      "source": [
        "### 3.5 Defining quantification model (2DCNN)"
      ]
    },
    {
      "cell_type": "code",
      "execution_count": 23,
      "id": "ac0cf2df",
      "metadata": {},
      "outputs": [
        {
          "name": "stdout",
          "output_type": "stream",
          "text": [
            "Model: \"model\"\n",
            "_________________________________________________________________\n",
            " Layer (type)                Output Shape              Param #   \n",
            "=================================================================\n",
            " input_1 (InputLayer)        [(None, 32, 32, 2)]       0         \n",
            "                                                                 \n",
            " conv2d (Conv2D)             (None, 32, 32, 16)        304       \n",
            "                                                                 \n",
            " activation (Activation)     (None, 32, 32, 16)        0         \n",
            "                                                                 \n",
            " conv2d_1 (Conv2D)           (None, 32, 32, 16)        2320      \n",
            "                                                                 \n",
            " activation_1 (Activation)   (None, 32, 32, 16)        0         \n",
            "                                                                 \n",
            " spatial_dropout2d (SpatialD  (None, 32, 32, 16)       0         \n",
            " ropout2D)                                                       \n",
            "                                                                 \n",
            " max_pooling2d (MaxPooling2D  (None, 16, 16, 16)       0         \n",
            " )                                                               \n",
            "                                                                 \n",
            " conv2d_2 (Conv2D)           (None, 16, 16, 32)        4640      \n",
            "                                                                 \n",
            " activation_2 (Activation)   (None, 16, 16, 32)        0         \n",
            "                                                                 \n",
            " conv2d_3 (Conv2D)           (None, 16, 16, 32)        9248      \n",
            "                                                                 \n",
            " activation_3 (Activation)   (None, 16, 16, 32)        0         \n",
            "                                                                 \n",
            " spatial_dropout2d_1 (Spatia  (None, 16, 16, 32)       0         \n",
            " lDropout2D)                                                     \n",
            "                                                                 \n",
            " max_pooling2d_1 (MaxPooling  (None, 8, 8, 32)         0         \n",
            " 2D)                                                             \n",
            "                                                                 \n",
            " conv2d_4 (Conv2D)           (None, 8, 8, 64)          18496     \n",
            "                                                                 \n",
            " activation_4 (Activation)   (None, 8, 8, 64)          0         \n",
            "                                                                 \n",
            " conv2d_5 (Conv2D)           (None, 8, 8, 64)          36928     \n",
            "                                                                 \n",
            " activation_5 (Activation)   (None, 8, 8, 64)          0         \n",
            "                                                                 \n",
            " max_pooling2d_2 (MaxPooling  (None, 4, 4, 64)         0         \n",
            " 2D)                                                             \n",
            "                                                                 \n",
            " flatten_1 (Flatten)         (None, 1024)              0         \n",
            "                                                                 \n",
            " dense (Dense)               (None, 64)                65600     \n",
            "                                                                 \n",
            " activation_6 (Activation)   (None, 64)                0         \n",
            "                                                                 \n",
            " dense_1 (Dense)             (None, 64)                4160      \n",
            "                                                                 \n",
            " activation_7 (Activation)   (None, 64)                0         \n",
            "                                                                 \n",
            " dense_2 (Dense)             (None, 1)                 65        \n",
            "                                                                 \n",
            "=================================================================\n",
            "Total params: 141,761\n",
            "Trainable params: 141,761\n",
            "Non-trainable params: 0\n",
            "_________________________________________________________________\n"
          ]
        }
      ],
      "source": [
        "import tensorflow.keras.backend as K\n",
        "import tensorflow.keras.optimizers as optimizers\n",
        "\n",
        "model = dt.models.Convolutional(\n",
        "    input_shape=(IMAGE_SIZE, IMAGE_SIZE, 2),\n",
        "    conv_layers_dimensions=(16, 32, 64),\n",
        "    dense_layers_dimensions=(64, 64),\n",
        "    steps_per_pooling=2,\n",
        "    number_of_outputs=1,\n",
        "    dropout=(.2, .2),\n",
        "    loss=\"mae\",\n",
        "    optimizer=\"adam\",\n",
        "    dense_block=dt.layers.DenseBlock(activation=\"relu\")\n",
        ")\n",
        "\n",
        "model.summary()"
      ]
    },
    {
      "cell_type": "markdown",
      "id": "420a9d9f",
      "metadata": {},
      "source": [
        "### 3.6 Training quantification model"
      ]
    },
    {
      "cell_type": "code",
      "execution_count": 24,
      "id": "6e69a20a",
      "metadata": {},
      "outputs": [],
      "source": [
        "TRAIN_MODEL = True\n",
        "\n",
        "validation_set_size = 256\n",
        "validation_set = []\n",
        "validation_labels = []\n",
        "for _ in range(validation_set_size):\n",
        "    image = dataset.update().resolve()\n",
        "\n",
        "    validation_set.append(image[0])\n",
        "    validation_labels.append(get_label(image))\n",
        "\n",
        "validation_set = np.array(validation_set)\n",
        "validation_labels = np.array(validation_labels)"
      ]
    },
    {
      "cell_type": "code",
      "execution_count": 25,
      "id": "24c6502d",
      "metadata": {},
      "outputs": [
        {
          "name": "stderr",
          "output_type": "stream",
          "text": [
            "c:\\Users\\Fredrik\\miniconda3\\envs\\dt\\lib\\site-packages\\tqdm\\auto.py:21: TqdmWarning: IProgress not found. Please update jupyter and ipywidgets. See https://ipywidgets.readthedocs.io/en/stable/user_install.html\n",
            "  from .autonotebook import tqdm as notebook_tqdm\n"
          ]
        },
        {
          "name": "stdout",
          "output_type": "stream",
          "text": [
            "8/8 [==============================] - 3s 5ms/step - loss: 0.0137\n"
          ]
        },
        {
          "data": {
            "text/plain": [
              "<keras.callbacks.History at 0x21a7bfcdaf0>"
            ]
          },
          "execution_count": 25,
          "metadata": {},
          "output_type": "execute_result"
        }
      ],
      "source": [
        "model.fit(\n",
        "    validation_set, \n",
        "    validation_labels,\n",
        "    epochs=1,\n",
        "    verbose=1\n",
        ")"
      ]
    },
    {
      "cell_type": "code",
      "execution_count": 26,
      "id": "8e520096",
      "metadata": {},
      "outputs": [
        {
          "name": "stdout",
          "output_type": "stream",
          "text": [
            "Generating 108 / 100 samples before starting training\n"
          ]
        },
        {
          "ename": "ValueError",
          "evalue": "Failed to convert a NumPy array to a Tensor (Unsupported object type float).",
          "output_type": "error",
          "traceback": [
            "\u001b[1;31m---------------------------------------------------------------------------\u001b[0m",
            "\u001b[1;31mValueError\u001b[0m                                Traceback (most recent call last)",
            "Cell \u001b[1;32mIn[26], line 13\u001b[0m\n\u001b[0;32m      2\u001b[0m generator \u001b[38;5;241m=\u001b[39m dt\u001b[38;5;241m.\u001b[39mgenerators\u001b[38;5;241m.\u001b[39mContinuousGenerator(\n\u001b[0;32m      3\u001b[0m     dataset,\n\u001b[0;32m      4\u001b[0m     batch_function\u001b[38;5;241m=\u001b[39mbatch_function,\n\u001b[1;32m   (...)\u001b[0m\n\u001b[0;32m      9\u001b[0m     max_epochs_per_sample\u001b[38;5;241m=\u001b[39m\u001b[38;5;241m33\u001b[39m\n\u001b[0;32m     10\u001b[0m )\n\u001b[0;32m     12\u001b[0m \u001b[38;5;28;01mwith\u001b[39;00m generator:\n\u001b[1;32m---> 13\u001b[0m     h \u001b[38;5;241m=\u001b[39m \u001b[43mmodel\u001b[49m\u001b[38;5;241;43m.\u001b[39;49m\u001b[43mfit\u001b[49m\u001b[43m(\u001b[49m\n\u001b[0;32m     14\u001b[0m \u001b[43m        \u001b[49m\u001b[43mgenerator\u001b[49m\u001b[43m,\u001b[49m\n\u001b[0;32m     15\u001b[0m \u001b[43m        \u001b[49m\u001b[43mvalidation_data\u001b[49m\u001b[38;5;241;43m=\u001b[39;49m\u001b[43m(\u001b[49m\n\u001b[0;32m     16\u001b[0m \u001b[43m            \u001b[49m\u001b[43mnp\u001b[49m\u001b[38;5;241;43m.\u001b[39;49m\u001b[43marray\u001b[49m\u001b[43m(\u001b[49m\u001b[43mvalidation_set\u001b[49m\u001b[43m)\u001b[49m\u001b[43m,\u001b[49m\u001b[43m \u001b[49m\n\u001b[0;32m     17\u001b[0m \u001b[43m            \u001b[49m\u001b[43mnp\u001b[49m\u001b[38;5;241;43m.\u001b[39;49m\u001b[43marray\u001b[49m\u001b[43m(\u001b[49m\u001b[43mvalidation_labels\u001b[49m\u001b[43m)\u001b[49m\n\u001b[0;32m     18\u001b[0m \u001b[43m        \u001b[49m\u001b[43m)\u001b[49m\u001b[43m,\u001b[49m\n\u001b[0;32m     19\u001b[0m \u001b[43m        \u001b[49m\u001b[43mepochs\u001b[49m\u001b[38;5;241;43m=\u001b[39;49m\u001b[38;5;241;43m500\u001b[39;49m\u001b[43m,\u001b[49m\n\u001b[0;32m     20\u001b[0m \u001b[43m    \u001b[49m\u001b[43m)\u001b[49m\n\u001b[0;32m     22\u001b[0m plt\u001b[38;5;241m.\u001b[39mfigure(figsize\u001b[38;5;241m=\u001b[39m(\u001b[38;5;241m6\u001b[39m, \u001b[38;5;241m3\u001b[39m))\n\u001b[0;32m     23\u001b[0m plt\u001b[38;5;241m.\u001b[39mplot(h\u001b[38;5;241m.\u001b[39mhistory[\u001b[38;5;124m\"\u001b[39m\u001b[38;5;124mval_loss\u001b[39m\u001b[38;5;124m\"\u001b[39m], label\u001b[38;5;241m=\u001b[39m\u001b[38;5;124m\"\u001b[39m\u001b[38;5;124mValidation loss\u001b[39m\u001b[38;5;124m\"\u001b[39m)\n",
            "File \u001b[1;32mc:\\Users\\Fredrik\\Documents\\GitHub\\DeepTrack2\\examples\\Tutorial_review\\../..\\deeptrack\\models\\utils.py:248\u001b[0m, in \u001b[0;36mKerasModel.fit\u001b[1;34m(self, x, batch_size, generator_kwargs, *args, **kwargs)\u001b[0m\n\u001b[0;32m    245\u001b[0m     \u001b[38;5;66;03m# Code is not actually unreachable if fit crashes.\u001b[39;00m\n\u001b[0;32m    246\u001b[0m     \u001b[38;5;28;01mreturn\u001b[39;00m \u001b[38;5;28;01mNone\u001b[39;00m\n\u001b[1;32m--> 248\u001b[0m \u001b[38;5;28;01mreturn\u001b[39;00m \u001b[38;5;28mself\u001b[39m\u001b[38;5;241m.\u001b[39mmodel\u001b[38;5;241m.\u001b[39mfit(x, \u001b[38;5;241m*\u001b[39margs, batch_size\u001b[38;5;241m=\u001b[39mbatch_size, \u001b[38;5;241m*\u001b[39m\u001b[38;5;241m*\u001b[39mkwargs)\n",
            "File \u001b[1;32mc:\\Users\\Fredrik\\miniconda3\\envs\\dt\\lib\\site-packages\\keras\\utils\\traceback_utils.py:70\u001b[0m, in \u001b[0;36mfilter_traceback.<locals>.error_handler\u001b[1;34m(*args, **kwargs)\u001b[0m\n\u001b[0;32m     67\u001b[0m     filtered_tb \u001b[38;5;241m=\u001b[39m _process_traceback_frames(e\u001b[38;5;241m.\u001b[39m__traceback__)\n\u001b[0;32m     68\u001b[0m     \u001b[38;5;66;03m# To get the full stack trace, call:\u001b[39;00m\n\u001b[0;32m     69\u001b[0m     \u001b[38;5;66;03m# `tf.debugging.disable_traceback_filtering()`\u001b[39;00m\n\u001b[1;32m---> 70\u001b[0m     \u001b[38;5;28;01mraise\u001b[39;00m e\u001b[38;5;241m.\u001b[39mwith_traceback(filtered_tb) \u001b[38;5;28;01mfrom\u001b[39;00m \u001b[38;5;28;01mNone\u001b[39;00m\n\u001b[0;32m     71\u001b[0m \u001b[38;5;28;01mfinally\u001b[39;00m:\n\u001b[0;32m     72\u001b[0m     \u001b[38;5;28;01mdel\u001b[39;00m filtered_tb\n",
            "File \u001b[1;32mc:\\Users\\Fredrik\\miniconda3\\envs\\dt\\lib\\site-packages\\tensorflow\\python\\framework\\constant_op.py:102\u001b[0m, in \u001b[0;36mconvert_to_eager_tensor\u001b[1;34m(value, ctx, dtype)\u001b[0m\n\u001b[0;32m    100\u001b[0m     dtype \u001b[38;5;241m=\u001b[39m dtypes\u001b[38;5;241m.\u001b[39mas_dtype(dtype)\u001b[38;5;241m.\u001b[39mas_datatype_enum\n\u001b[0;32m    101\u001b[0m ctx\u001b[38;5;241m.\u001b[39mensure_initialized()\n\u001b[1;32m--> 102\u001b[0m \u001b[38;5;28;01mreturn\u001b[39;00m \u001b[43mops\u001b[49m\u001b[38;5;241;43m.\u001b[39;49m\u001b[43mEagerTensor\u001b[49m\u001b[43m(\u001b[49m\u001b[43mvalue\u001b[49m\u001b[43m,\u001b[49m\u001b[43m \u001b[49m\u001b[43mctx\u001b[49m\u001b[38;5;241;43m.\u001b[39;49m\u001b[43mdevice_name\u001b[49m\u001b[43m,\u001b[49m\u001b[43m \u001b[49m\u001b[43mdtype\u001b[49m\u001b[43m)\u001b[49m\n",
            "\u001b[1;31mValueError\u001b[0m: Failed to convert a NumPy array to a Tensor (Unsupported object type float)."
          ]
        }
      ],
      "source": [
        "if TRAIN_MODEL:\n",
        "    generator = dt.generators.ContinuousGenerator(\n",
        "        dataset,\n",
        "        batch_function=batch_function,\n",
        "        label_function=get_label,\n",
        "        min_data_size=int(1e2),\n",
        "        max_data_size=int(1e3),\n",
        "        batch_size=32,\n",
        "        max_epochs_per_sample=33\n",
        "    )\n",
        "\n",
        "    with generator:\n",
        "        h = model.fit(\n",
        "            generator,\n",
        "            validation_data=(\n",
        "                np.array(validation_set), \n",
        "                np.array(validation_labels)\n",
        "            ),\n",
        "            epochs=500,\n",
        "        )\n",
        "    \n",
        "    plt.figure(figsize=(6, 3))\n",
        "    plt.plot(h.history[\"val_loss\"], label=\"Validation loss\")\n",
        "    plt.plot(h.history[\"loss\"], label=\"Training loss\")\n",
        "    plt.xlabel(\"Epoch\")\n",
        "    plt.ylabel(\"Loss\")\n",
        "\n"
      ]
    },
    {
      "cell_type": "code",
      "execution_count": null,
      "id": "7c834e41",
      "metadata": {},
      "outputs": [],
      "source": []
    },
    {
      "cell_type": "code",
      "execution_count": null,
      "id": "5fb3b435",
      "metadata": {},
      "outputs": [
        {
          "name": "stdout",
          "output_type": "stream",
          "text": [
            "WARNING:tensorflow:Keras is training/fitting/evaluating on array-like data. Keras may not be optimized for this format, so if your input data format is supported by TensorFlow I/O (https://github.com/tensorflow/io) we recommend using that to load a Dataset instead.\n"
          ]
        },
        {
          "name": "stdout",
          "output_type": "stream",
          "text": [
            "1/1 [==============================] - 0s 429ms/step\n",
            "WARNING:tensorflow:Keras is training/fitting/evaluating on array-like data. Keras may not be optimized for this format, so if your input data format is supported by TensorFlow I/O (https://github.com/tensorflow/io) we recommend using that to load a Dataset instead.\n",
            "1/1 [==============================] - 0s 23ms/step\n",
            "WARNING:tensorflow:Keras is training/fitting/evaluating on array-like data. Keras may not be optimized for this format, so if your input data format is supported by TensorFlow I/O (https://github.com/tensorflow/io) we recommend using that to load a Dataset instead.\n",
            "1/1 [==============================] - 0s 22ms/step\n",
            "WARNING:tensorflow:Keras is training/fitting/evaluating on array-like data. Keras may not be optimized for this format, so if your input data format is supported by TensorFlow I/O (https://github.com/tensorflow/io) we recommend using that to load a Dataset instead.\n",
            "1/1 [==============================] - 0s 23ms/step\n",
            "WARNING:tensorflow:Keras is training/fitting/evaluating on array-like data. Keras may not be optimized for this format, so if your input data format is supported by TensorFlow I/O (https://github.com/tensorflow/io) we recommend using that to load a Dataset instead.\n",
            "1/1 [==============================] - 0s 21ms/step\n",
            "WARNING:tensorflow:Keras is training/fitting/evaluating on array-like data. Keras may not be optimized for this format, so if your input data format is supported by TensorFlow I/O (https://github.com/tensorflow/io) we recommend using that to load a Dataset instead.\n",
            "1/1 [==============================] - 0s 22ms/step\n",
            "WARNING:tensorflow:Keras is training/fitting/evaluating on array-like data. Keras may not be optimized for this format, so if your input data format is supported by TensorFlow I/O (https://github.com/tensorflow/io) we recommend using that to load a Dataset instead.\n",
            "1/1 [==============================] - 0s 21ms/step\n",
            "WARNING:tensorflow:Keras is training/fitting/evaluating on array-like data. Keras may not be optimized for this format, so if your input data format is supported by TensorFlow I/O (https://github.com/tensorflow/io) we recommend using that to load a Dataset instead.\n",
            "1/1 [==============================] - 0s 22ms/step\n",
            "WARNING:tensorflow:Keras is training/fitting/evaluating on array-like data. Keras may not be optimized for this format, so if your input data format is supported by TensorFlow I/O (https://github.com/tensorflow/io) we recommend using that to load a Dataset instead.\n",
            "1/1 [==============================] - 0s 21ms/step\n",
            "WARNING:tensorflow:Keras is training/fitting/evaluating on array-like data. Keras may not be optimized for this format, so if your input data format is supported by TensorFlow I/O (https://github.com/tensorflow/io) we recommend using that to load a Dataset instead.\n",
            "1/1 [==============================] - 0s 22ms/step\n",
            "WARNING:tensorflow:Keras is training/fitting/evaluating on array-like data. Keras may not be optimized for this format, so if your input data format is supported by TensorFlow I/O (https://github.com/tensorflow/io) we recommend using that to load a Dataset instead.\n",
            "1/1 [==============================] - 0s 22ms/step\n",
            "WARNING:tensorflow:Keras is training/fitting/evaluating on array-like data. Keras may not be optimized for this format, so if your input data format is supported by TensorFlow I/O (https://github.com/tensorflow/io) we recommend using that to load a Dataset instead.\n",
            "1/1 [==============================] - 0s 22ms/step\n",
            "WARNING:tensorflow:Keras is training/fitting/evaluating on array-like data. Keras may not be optimized for this format, so if your input data format is supported by TensorFlow I/O (https://github.com/tensorflow/io) we recommend using that to load a Dataset instead.\n",
            "1/1 [==============================] - 0s 21ms/step\n",
            "WARNING:tensorflow:Keras is training/fitting/evaluating on array-like data. Keras may not be optimized for this format, so if your input data format is supported by TensorFlow I/O (https://github.com/tensorflow/io) we recommend using that to load a Dataset instead.\n",
            "1/1 [==============================] - 0s 21ms/step\n",
            "WARNING:tensorflow:Keras is training/fitting/evaluating on array-like data. Keras may not be optimized for this format, so if your input data format is supported by TensorFlow I/O (https://github.com/tensorflow/io) we recommend using that to load a Dataset instead.\n",
            "1/1 [==============================] - 0s 21ms/step\n",
            "WARNING:tensorflow:Keras is training/fitting/evaluating on array-like data. Keras may not be optimized for this format, so if your input data format is supported by TensorFlow I/O (https://github.com/tensorflow/io) we recommend using that to load a Dataset instead.\n",
            "1/1 [==============================] - 0s 22ms/step\n",
            "WARNING:tensorflow:Keras is training/fitting/evaluating on array-like data. Keras may not be optimized for this format, so if your input data format is supported by TensorFlow I/O (https://github.com/tensorflow/io) we recommend using that to load a Dataset instead.\n",
            "1/1 [==============================] - 0s 23ms/step\n",
            "WARNING:tensorflow:Keras is training/fitting/evaluating on array-like data. Keras may not be optimized for this format, so if your input data format is supported by TensorFlow I/O (https://github.com/tensorflow/io) we recommend using that to load a Dataset instead.\n",
            "1/1 [==============================] - 0s 21ms/step\n",
            "WARNING:tensorflow:Keras is training/fitting/evaluating on array-like data. Keras may not be optimized for this format, so if your input data format is supported by TensorFlow I/O (https://github.com/tensorflow/io) we recommend using that to load a Dataset instead.\n",
            "1/1 [==============================] - 0s 22ms/step\n",
            "WARNING:tensorflow:Keras is training/fitting/evaluating on array-like data. Keras may not be optimized for this format, so if your input data format is supported by TensorFlow I/O (https://github.com/tensorflow/io) we recommend using that to load a Dataset instead.\n",
            "1/1 [==============================] - 0s 21ms/step\n",
            "WARNING:tensorflow:Keras is training/fitting/evaluating on array-like data. Keras may not be optimized for this format, so if your input data format is supported by TensorFlow I/O (https://github.com/tensorflow/io) we recommend using that to load a Dataset instead.\n",
            "1/1 [==============================] - 0s 23ms/step\n",
            "WARNING:tensorflow:Keras is training/fitting/evaluating on array-like data. Keras may not be optimized for this format, so if your input data format is supported by TensorFlow I/O (https://github.com/tensorflow/io) we recommend using that to load a Dataset instead.\n",
            "1/1 [==============================] - 0s 21ms/step\n",
            "WARNING:tensorflow:Keras is training/fitting/evaluating on array-like data. Keras may not be optimized for this format, so if your input data format is supported by TensorFlow I/O (https://github.com/tensorflow/io) we recommend using that to load a Dataset instead.\n",
            "1/1 [==============================] - 0s 22ms/step\n",
            "WARNING:tensorflow:Keras is training/fitting/evaluating on array-like data. Keras may not be optimized for this format, so if your input data format is supported by TensorFlow I/O (https://github.com/tensorflow/io) we recommend using that to load a Dataset instead.\n",
            "1/1 [==============================] - 0s 22ms/step\n",
            "WARNING:tensorflow:Keras is training/fitting/evaluating on array-like data. Keras may not be optimized for this format, so if your input data format is supported by TensorFlow I/O (https://github.com/tensorflow/io) we recommend using that to load a Dataset instead.\n",
            "1/1 [==============================] - 0s 22ms/step\n",
            "WARNING:tensorflow:Keras is training/fitting/evaluating on array-like data. Keras may not be optimized for this format, so if your input data format is supported by TensorFlow I/O (https://github.com/tensorflow/io) we recommend using that to load a Dataset instead.\n",
            "1/1 [==============================] - 0s 22ms/step\n",
            "WARNING:tensorflow:Keras is training/fitting/evaluating on array-like data. Keras may not be optimized for this format, so if your input data format is supported by TensorFlow I/O (https://github.com/tensorflow/io) we recommend using that to load a Dataset instead.\n",
            "1/1 [==============================] - 0s 22ms/step\n",
            "WARNING:tensorflow:Keras is training/fitting/evaluating on array-like data. Keras may not be optimized for this format, so if your input data format is supported by TensorFlow I/O (https://github.com/tensorflow/io) we recommend using that to load a Dataset instead.\n",
            "1/1 [==============================] - 0s 21ms/step\n",
            "WARNING:tensorflow:Keras is training/fitting/evaluating on array-like data. Keras may not be optimized for this format, so if your input data format is supported by TensorFlow I/O (https://github.com/tensorflow/io) we recommend using that to load a Dataset instead.\n",
            "1/1 [==============================] - 0s 22ms/step\n",
            "WARNING:tensorflow:Keras is training/fitting/evaluating on array-like data. Keras may not be optimized for this format, so if your input data format is supported by TensorFlow I/O (https://github.com/tensorflow/io) we recommend using that to load a Dataset instead.\n",
            "1/1 [==============================] - 0s 22ms/step\n",
            "WARNING:tensorflow:Keras is training/fitting/evaluating on array-like data. Keras may not be optimized for this format, so if your input data format is supported by TensorFlow I/O (https://github.com/tensorflow/io) we recommend using that to load a Dataset instead.\n",
            "1/1 [==============================] - 0s 22ms/step\n",
            "WARNING:tensorflow:Keras is training/fitting/evaluating on array-like data. Keras may not be optimized for this format, so if your input data format is supported by TensorFlow I/O (https://github.com/tensorflow/io) we recommend using that to load a Dataset instead.\n",
            "1/1 [==============================] - 0s 21ms/step\n",
            "WARNING:tensorflow:Keras is training/fitting/evaluating on array-like data. Keras may not be optimized for this format, so if your input data format is supported by TensorFlow I/O (https://github.com/tensorflow/io) we recommend using that to load a Dataset instead.\n",
            "1/1 [==============================] - 0s 21ms/step\n",
            "WARNING:tensorflow:Keras is training/fitting/evaluating on array-like data. Keras may not be optimized for this format, so if your input data format is supported by TensorFlow I/O (https://github.com/tensorflow/io) we recommend using that to load a Dataset instead.\n",
            "1/1 [==============================] - 0s 22ms/step\n",
            "WARNING:tensorflow:Keras is training/fitting/evaluating on array-like data. Keras may not be optimized for this format, so if your input data format is supported by TensorFlow I/O (https://github.com/tensorflow/io) we recommend using that to load a Dataset instead.\n",
            "1/1 [==============================] - 0s 22ms/step\n",
            "WARNING:tensorflow:Keras is training/fitting/evaluating on array-like data. Keras may not be optimized for this format, so if your input data format is supported by TensorFlow I/O (https://github.com/tensorflow/io) we recommend using that to load a Dataset instead.\n",
            "1/1 [==============================] - 0s 22ms/step\n",
            "WARNING:tensorflow:Keras is training/fitting/evaluating on array-like data. Keras may not be optimized for this format, so if your input data format is supported by TensorFlow I/O (https://github.com/tensorflow/io) we recommend using that to load a Dataset instead.\n",
            "1/1 [==============================] - 0s 22ms/step\n",
            "WARNING:tensorflow:Keras is training/fitting/evaluating on array-like data. Keras may not be optimized for this format, so if your input data format is supported by TensorFlow I/O (https://github.com/tensorflow/io) we recommend using that to load a Dataset instead.\n",
            "1/1 [==============================] - 0s 23ms/step\n",
            "WARNING:tensorflow:Keras is training/fitting/evaluating on array-like data. Keras may not be optimized for this format, so if your input data format is supported by TensorFlow I/O (https://github.com/tensorflow/io) we recommend using that to load a Dataset instead.\n",
            "1/1 [==============================] - 0s 22ms/step\n",
            "WARNING:tensorflow:Keras is training/fitting/evaluating on array-like data. Keras may not be optimized for this format, so if your input data format is supported by TensorFlow I/O (https://github.com/tensorflow/io) we recommend using that to load a Dataset instead.\n",
            "1/1 [==============================] - 0s 25ms/step\n",
            "WARNING:tensorflow:Keras is training/fitting/evaluating on array-like data. Keras may not be optimized for this format, so if your input data format is supported by TensorFlow I/O (https://github.com/tensorflow/io) we recommend using that to load a Dataset instead.\n",
            "1/1 [==============================] - 0s 22ms/step\n",
            "WARNING:tensorflow:Keras is training/fitting/evaluating on array-like data. Keras may not be optimized for this format, so if your input data format is supported by TensorFlow I/O (https://github.com/tensorflow/io) we recommend using that to load a Dataset instead.\n",
            "1/1 [==============================] - 0s 22ms/step\n",
            "WARNING:tensorflow:Keras is training/fitting/evaluating on array-like data. Keras may not be optimized for this format, so if your input data format is supported by TensorFlow I/O (https://github.com/tensorflow/io) we recommend using that to load a Dataset instead.\n",
            "1/1 [==============================] - 0s 21ms/step\n",
            "WARNING:tensorflow:Keras is training/fitting/evaluating on array-like data. Keras may not be optimized for this format, so if your input data format is supported by TensorFlow I/O (https://github.com/tensorflow/io) we recommend using that to load a Dataset instead.\n",
            "1/1 [==============================] - 0s 21ms/step\n",
            "WARNING:tensorflow:Keras is training/fitting/evaluating on array-like data. Keras may not be optimized for this format, so if your input data format is supported by TensorFlow I/O (https://github.com/tensorflow/io) we recommend using that to load a Dataset instead.\n",
            "1/1 [==============================] - 0s 22ms/step\n",
            "WARNING:tensorflow:Keras is training/fitting/evaluating on array-like data. Keras may not be optimized for this format, so if your input data format is supported by TensorFlow I/O (https://github.com/tensorflow/io) we recommend using that to load a Dataset instead.\n",
            "1/1 [==============================] - 0s 22ms/step\n",
            "WARNING:tensorflow:Keras is training/fitting/evaluating on array-like data. Keras may not be optimized for this format, so if your input data format is supported by TensorFlow I/O (https://github.com/tensorflow/io) we recommend using that to load a Dataset instead.\n",
            "1/1 [==============================] - 0s 26ms/step\n",
            "WARNING:tensorflow:Keras is training/fitting/evaluating on array-like data. Keras may not be optimized for this format, so if your input data format is supported by TensorFlow I/O (https://github.com/tensorflow/io) we recommend using that to load a Dataset instead.\n",
            "1/1 [==============================] - 0s 22ms/step\n",
            "WARNING:tensorflow:Keras is training/fitting/evaluating on array-like data. Keras may not be optimized for this format, so if your input data format is supported by TensorFlow I/O (https://github.com/tensorflow/io) we recommend using that to load a Dataset instead.\n",
            "1/1 [==============================] - 0s 22ms/step\n",
            "WARNING:tensorflow:Keras is training/fitting/evaluating on array-like data. Keras may not be optimized for this format, so if your input data format is supported by TensorFlow I/O (https://github.com/tensorflow/io) we recommend using that to load a Dataset instead.\n",
            "1/1 [==============================] - 0s 22ms/step\n",
            "WARNING:tensorflow:Keras is training/fitting/evaluating on array-like data. Keras may not be optimized for this format, so if your input data format is supported by TensorFlow I/O (https://github.com/tensorflow/io) we recommend using that to load a Dataset instead.\n",
            "1/1 [==============================] - 0s 23ms/step\n",
            "WARNING:tensorflow:Keras is training/fitting/evaluating on array-like data. Keras may not be optimized for this format, so if your input data format is supported by TensorFlow I/O (https://github.com/tensorflow/io) we recommend using that to load a Dataset instead.\n",
            "1/1 [==============================] - 0s 23ms/step\n",
            "WARNING:tensorflow:Keras is training/fitting/evaluating on array-like data. Keras may not be optimized for this format, so if your input data format is supported by TensorFlow I/O (https://github.com/tensorflow/io) we recommend using that to load a Dataset instead.\n",
            "1/1 [==============================] - 0s 22ms/step\n",
            "WARNING:tensorflow:Keras is training/fitting/evaluating on array-like data. Keras may not be optimized for this format, so if your input data format is supported by TensorFlow I/O (https://github.com/tensorflow/io) we recommend using that to load a Dataset instead.\n",
            "1/1 [==============================] - 0s 23ms/step\n",
            "WARNING:tensorflow:Keras is training/fitting/evaluating on array-like data. Keras may not be optimized for this format, so if your input data format is supported by TensorFlow I/O (https://github.com/tensorflow/io) we recommend using that to load a Dataset instead.\n",
            "1/1 [==============================] - 0s 22ms/step\n",
            "WARNING:tensorflow:Keras is training/fitting/evaluating on array-like data. Keras may not be optimized for this format, so if your input data format is supported by TensorFlow I/O (https://github.com/tensorflow/io) we recommend using that to load a Dataset instead.\n",
            "1/1 [==============================] - 0s 22ms/step\n",
            "WARNING:tensorflow:Keras is training/fitting/evaluating on array-like data. Keras may not be optimized for this format, so if your input data format is supported by TensorFlow I/O (https://github.com/tensorflow/io) we recommend using that to load a Dataset instead.\n",
            "1/1 [==============================] - 0s 21ms/step\n",
            "WARNING:tensorflow:Keras is training/fitting/evaluating on array-like data. Keras may not be optimized for this format, so if your input data format is supported by TensorFlow I/O (https://github.com/tensorflow/io) we recommend using that to load a Dataset instead.\n",
            "1/1 [==============================] - 0s 22ms/step\n",
            "WARNING:tensorflow:Keras is training/fitting/evaluating on array-like data. Keras may not be optimized for this format, so if your input data format is supported by TensorFlow I/O (https://github.com/tensorflow/io) we recommend using that to load a Dataset instead.\n",
            "1/1 [==============================] - 0s 22ms/step\n",
            "WARNING:tensorflow:Keras is training/fitting/evaluating on array-like data. Keras may not be optimized for this format, so if your input data format is supported by TensorFlow I/O (https://github.com/tensorflow/io) we recommend using that to load a Dataset instead.\n",
            "1/1 [==============================] - 0s 22ms/step\n",
            "WARNING:tensorflow:Keras is training/fitting/evaluating on array-like data. Keras may not be optimized for this format, so if your input data format is supported by TensorFlow I/O (https://github.com/tensorflow/io) we recommend using that to load a Dataset instead.\n",
            "1/1 [==============================] - 0s 23ms/step\n",
            "WARNING:tensorflow:Keras is training/fitting/evaluating on array-like data. Keras may not be optimized for this format, so if your input data format is supported by TensorFlow I/O (https://github.com/tensorflow/io) we recommend using that to load a Dataset instead.\n",
            "1/1 [==============================] - 0s 22ms/step\n",
            "WARNING:tensorflow:Keras is training/fitting/evaluating on array-like data. Keras may not be optimized for this format, so if your input data format is supported by TensorFlow I/O (https://github.com/tensorflow/io) we recommend using that to load a Dataset instead.\n",
            "1/1 [==============================] - 0s 22ms/step\n",
            "WARNING:tensorflow:Keras is training/fitting/evaluating on array-like data. Keras may not be optimized for this format, so if your input data format is supported by TensorFlow I/O (https://github.com/tensorflow/io) we recommend using that to load a Dataset instead.\n",
            "1/1 [==============================] - 0s 21ms/step\n",
            "WARNING:tensorflow:Keras is training/fitting/evaluating on array-like data. Keras may not be optimized for this format, so if your input data format is supported by TensorFlow I/O (https://github.com/tensorflow/io) we recommend using that to load a Dataset instead.\n",
            "1/1 [==============================] - 0s 24ms/step\n",
            "WARNING:tensorflow:Keras is training/fitting/evaluating on array-like data. Keras may not be optimized for this format, so if your input data format is supported by TensorFlow I/O (https://github.com/tensorflow/io) we recommend using that to load a Dataset instead.\n",
            "1/1 [==============================] - 0s 22ms/step\n",
            "WARNING:tensorflow:Keras is training/fitting/evaluating on array-like data. Keras may not be optimized for this format, so if your input data format is supported by TensorFlow I/O (https://github.com/tensorflow/io) we recommend using that to load a Dataset instead.\n",
            "1/1 [==============================] - 0s 23ms/step\n",
            "WARNING:tensorflow:Keras is training/fitting/evaluating on array-like data. Keras may not be optimized for this format, so if your input data format is supported by TensorFlow I/O (https://github.com/tensorflow/io) we recommend using that to load a Dataset instead.\n",
            "1/1 [==============================] - 0s 22ms/step\n",
            "WARNING:tensorflow:Keras is training/fitting/evaluating on array-like data. Keras may not be optimized for this format, so if your input data format is supported by TensorFlow I/O (https://github.com/tensorflow/io) we recommend using that to load a Dataset instead.\n",
            "1/1 [==============================] - 0s 23ms/step\n",
            "WARNING:tensorflow:Keras is training/fitting/evaluating on array-like data. Keras may not be optimized for this format, so if your input data format is supported by TensorFlow I/O (https://github.com/tensorflow/io) we recommend using that to load a Dataset instead.\n",
            "1/1 [==============================] - 0s 22ms/step\n",
            "WARNING:tensorflow:Keras is training/fitting/evaluating on array-like data. Keras may not be optimized for this format, so if your input data format is supported by TensorFlow I/O (https://github.com/tensorflow/io) we recommend using that to load a Dataset instead.\n",
            "1/1 [==============================] - 0s 22ms/step\n",
            "WARNING:tensorflow:Keras is training/fitting/evaluating on array-like data. Keras may not be optimized for this format, so if your input data format is supported by TensorFlow I/O (https://github.com/tensorflow/io) we recommend using that to load a Dataset instead.\n",
            "1/1 [==============================] - 0s 23ms/step\n",
            "WARNING:tensorflow:Keras is training/fitting/evaluating on array-like data. Keras may not be optimized for this format, so if your input data format is supported by TensorFlow I/O (https://github.com/tensorflow/io) we recommend using that to load a Dataset instead.\n",
            "1/1 [==============================] - 0s 22ms/step\n",
            "WARNING:tensorflow:Keras is training/fitting/evaluating on array-like data. Keras may not be optimized for this format, so if your input data format is supported by TensorFlow I/O (https://github.com/tensorflow/io) we recommend using that to load a Dataset instead.\n",
            "1/1 [==============================] - 0s 23ms/step\n",
            "WARNING:tensorflow:Keras is training/fitting/evaluating on array-like data. Keras may not be optimized for this format, so if your input data format is supported by TensorFlow I/O (https://github.com/tensorflow/io) we recommend using that to load a Dataset instead.\n",
            "1/1 [==============================] - 0s 22ms/step\n",
            "WARNING:tensorflow:Keras is training/fitting/evaluating on array-like data. Keras may not be optimized for this format, so if your input data format is supported by TensorFlow I/O (https://github.com/tensorflow/io) we recommend using that to load a Dataset instead.\n",
            "1/1 [==============================] - 0s 22ms/step\n",
            "WARNING:tensorflow:Keras is training/fitting/evaluating on array-like data. Keras may not be optimized for this format, so if your input data format is supported by TensorFlow I/O (https://github.com/tensorflow/io) we recommend using that to load a Dataset instead.\n",
            "1/1 [==============================] - 0s 23ms/step\n",
            "WARNING:tensorflow:Keras is training/fitting/evaluating on array-like data. Keras may not be optimized for this format, so if your input data format is supported by TensorFlow I/O (https://github.com/tensorflow/io) we recommend using that to load a Dataset instead.\n",
            "1/1 [==============================] - 0s 22ms/step\n",
            "WARNING:tensorflow:Keras is training/fitting/evaluating on array-like data. Keras may not be optimized for this format, so if your input data format is supported by TensorFlow I/O (https://github.com/tensorflow/io) we recommend using that to load a Dataset instead.\n",
            "1/1 [==============================] - 0s 22ms/step\n",
            "WARNING:tensorflow:Keras is training/fitting/evaluating on array-like data. Keras may not be optimized for this format, so if your input data format is supported by TensorFlow I/O (https://github.com/tensorflow/io) we recommend using that to load a Dataset instead.\n",
            "1/1 [==============================] - 0s 23ms/step\n",
            "WARNING:tensorflow:Keras is training/fitting/evaluating on array-like data. Keras may not be optimized for this format, so if your input data format is supported by TensorFlow I/O (https://github.com/tensorflow/io) we recommend using that to load a Dataset instead.\n",
            "1/1 [==============================] - 0s 26ms/step\n",
            "WARNING:tensorflow:Keras is training/fitting/evaluating on array-like data. Keras may not be optimized for this format, so if your input data format is supported by TensorFlow I/O (https://github.com/tensorflow/io) we recommend using that to load a Dataset instead.\n",
            "1/1 [==============================] - 0s 21ms/step\n",
            "WARNING:tensorflow:Keras is training/fitting/evaluating on array-like data. Keras may not be optimized for this format, so if your input data format is supported by TensorFlow I/O (https://github.com/tensorflow/io) we recommend using that to load a Dataset instead.\n",
            "1/1 [==============================] - 0s 22ms/step\n",
            "WARNING:tensorflow:Keras is training/fitting/evaluating on array-like data. Keras may not be optimized for this format, so if your input data format is supported by TensorFlow I/O (https://github.com/tensorflow/io) we recommend using that to load a Dataset instead.\n",
            "1/1 [==============================] - 0s 23ms/step\n",
            "WARNING:tensorflow:Keras is training/fitting/evaluating on array-like data. Keras may not be optimized for this format, so if your input data format is supported by TensorFlow I/O (https://github.com/tensorflow/io) we recommend using that to load a Dataset instead.\n",
            "1/1 [==============================] - 0s 22ms/step\n",
            "WARNING:tensorflow:Keras is training/fitting/evaluating on array-like data. Keras may not be optimized for this format, so if your input data format is supported by TensorFlow I/O (https://github.com/tensorflow/io) we recommend using that to load a Dataset instead.\n",
            "1/1 [==============================] - 0s 22ms/step\n",
            "WARNING:tensorflow:Keras is training/fitting/evaluating on array-like data. Keras may not be optimized for this format, so if your input data format is supported by TensorFlow I/O (https://github.com/tensorflow/io) we recommend using that to load a Dataset instead.\n",
            "1/1 [==============================] - 0s 23ms/step\n",
            "WARNING:tensorflow:Keras is training/fitting/evaluating on array-like data. Keras may not be optimized for this format, so if your input data format is supported by TensorFlow I/O (https://github.com/tensorflow/io) we recommend using that to load a Dataset instead.\n",
            "1/1 [==============================] - 0s 22ms/step\n",
            "WARNING:tensorflow:Keras is training/fitting/evaluating on array-like data. Keras may not be optimized for this format, so if your input data format is supported by TensorFlow I/O (https://github.com/tensorflow/io) we recommend using that to load a Dataset instead.\n",
            "1/1 [==============================] - 0s 22ms/step\n",
            "WARNING:tensorflow:Keras is training/fitting/evaluating on array-like data. Keras may not be optimized for this format, so if your input data format is supported by TensorFlow I/O (https://github.com/tensorflow/io) we recommend using that to load a Dataset instead.\n",
            "1/1 [==============================] - 0s 22ms/step\n",
            "WARNING:tensorflow:Keras is training/fitting/evaluating on array-like data. Keras may not be optimized for this format, so if your input data format is supported by TensorFlow I/O (https://github.com/tensorflow/io) we recommend using that to load a Dataset instead.\n",
            "1/1 [==============================] - 0s 23ms/step\n",
            "WARNING:tensorflow:Keras is training/fitting/evaluating on array-like data. Keras may not be optimized for this format, so if your input data format is supported by TensorFlow I/O (https://github.com/tensorflow/io) we recommend using that to load a Dataset instead.\n",
            "1/1 [==============================] - 0s 23ms/step\n",
            "WARNING:tensorflow:Keras is training/fitting/evaluating on array-like data. Keras may not be optimized for this format, so if your input data format is supported by TensorFlow I/O (https://github.com/tensorflow/io) we recommend using that to load a Dataset instead.\n",
            "1/1 [==============================] - 0s 23ms/step\n",
            "WARNING:tensorflow:Keras is training/fitting/evaluating on array-like data. Keras may not be optimized for this format, so if your input data format is supported by TensorFlow I/O (https://github.com/tensorflow/io) we recommend using that to load a Dataset instead.\n",
            "1/1 [==============================] - 0s 21ms/step\n",
            "WARNING:tensorflow:Keras is training/fitting/evaluating on array-like data. Keras may not be optimized for this format, so if your input data format is supported by TensorFlow I/O (https://github.com/tensorflow/io) we recommend using that to load a Dataset instead.\n",
            "1/1 [==============================] - 0s 22ms/step\n",
            "WARNING:tensorflow:Keras is training/fitting/evaluating on array-like data. Keras may not be optimized for this format, so if your input data format is supported by TensorFlow I/O (https://github.com/tensorflow/io) we recommend using that to load a Dataset instead.\n",
            "1/1 [==============================] - 0s 23ms/step\n",
            "WARNING:tensorflow:Keras is training/fitting/evaluating on array-like data. Keras may not be optimized for this format, so if your input data format is supported by TensorFlow I/O (https://github.com/tensorflow/io) we recommend using that to load a Dataset instead.\n",
            "1/1 [==============================] - 0s 23ms/step\n",
            "WARNING:tensorflow:Keras is training/fitting/evaluating on array-like data. Keras may not be optimized for this format, so if your input data format is supported by TensorFlow I/O (https://github.com/tensorflow/io) we recommend using that to load a Dataset instead.\n",
            "1/1 [==============================] - 0s 22ms/step\n",
            "WARNING:tensorflow:Keras is training/fitting/evaluating on array-like data. Keras may not be optimized for this format, so if your input data format is supported by TensorFlow I/O (https://github.com/tensorflow/io) we recommend using that to load a Dataset instead.\n",
            "1/1 [==============================] - 0s 22ms/step\n",
            "WARNING:tensorflow:Keras is training/fitting/evaluating on array-like data. Keras may not be optimized for this format, so if your input data format is supported by TensorFlow I/O (https://github.com/tensorflow/io) we recommend using that to load a Dataset instead.\n",
            "1/1 [==============================] - 0s 23ms/step\n",
            "WARNING:tensorflow:Keras is training/fitting/evaluating on array-like data. Keras may not be optimized for this format, so if your input data format is supported by TensorFlow I/O (https://github.com/tensorflow/io) we recommend using that to load a Dataset instead.\n",
            "1/1 [==============================] - 0s 23ms/step\n",
            "WARNING:tensorflow:Keras is training/fitting/evaluating on array-like data. Keras may not be optimized for this format, so if your input data format is supported by TensorFlow I/O (https://github.com/tensorflow/io) we recommend using that to load a Dataset instead.\n",
            "1/1 [==============================] - 0s 22ms/step\n",
            "WARNING:tensorflow:Keras is training/fitting/evaluating on array-like data. Keras may not be optimized for this format, so if your input data format is supported by TensorFlow I/O (https://github.com/tensorflow/io) we recommend using that to load a Dataset instead.\n",
            "1/1 [==============================] - 0s 21ms/step\n",
            "WARNING:tensorflow:Keras is training/fitting/evaluating on array-like data. Keras may not be optimized for this format, so if your input data format is supported by TensorFlow I/O (https://github.com/tensorflow/io) we recommend using that to load a Dataset instead.\n",
            "1/1 [==============================] - 0s 23ms/step\n",
            "WARNING:tensorflow:Keras is training/fitting/evaluating on array-like data. Keras may not be optimized for this format, so if your input data format is supported by TensorFlow I/O (https://github.com/tensorflow/io) we recommend using that to load a Dataset instead.\n",
            "1/1 [==============================] - 0s 23ms/step\n",
            "WARNING:tensorflow:Keras is training/fitting/evaluating on array-like data. Keras may not be optimized for this format, so if your input data format is supported by TensorFlow I/O (https://github.com/tensorflow/io) we recommend using that to load a Dataset instead.\n",
            "1/1 [==============================] - 0s 22ms/step\n",
            "WARNING:tensorflow:Keras is training/fitting/evaluating on array-like data. Keras may not be optimized for this format, so if your input data format is supported by TensorFlow I/O (https://github.com/tensorflow/io) we recommend using that to load a Dataset instead.\n",
            "1/1 [==============================] - 0s 23ms/step\n",
            "WARNING:tensorflow:Keras is training/fitting/evaluating on array-like data. Keras may not be optimized for this format, so if your input data format is supported by TensorFlow I/O (https://github.com/tensorflow/io) we recommend using that to load a Dataset instead.\n",
            "1/1 [==============================] - 0s 26ms/step\n",
            "WARNING:tensorflow:Keras is training/fitting/evaluating on array-like data. Keras may not be optimized for this format, so if your input data format is supported by TensorFlow I/O (https://github.com/tensorflow/io) we recommend using that to load a Dataset instead.\n",
            "1/1 [==============================] - 0s 24ms/step\n",
            "WARNING:tensorflow:Keras is training/fitting/evaluating on array-like data. Keras may not be optimized for this format, so if your input data format is supported by TensorFlow I/O (https://github.com/tensorflow/io) we recommend using that to load a Dataset instead.\n",
            "1/1 [==============================] - 0s 23ms/step\n",
            "WARNING:tensorflow:Keras is training/fitting/evaluating on array-like data. Keras may not be optimized for this format, so if your input data format is supported by TensorFlow I/O (https://github.com/tensorflow/io) we recommend using that to load a Dataset instead.\n",
            "1/1 [==============================] - 0s 22ms/step\n",
            "WARNING:tensorflow:Keras is training/fitting/evaluating on array-like data. Keras may not be optimized for this format, so if your input data format is supported by TensorFlow I/O (https://github.com/tensorflow/io) we recommend using that to load a Dataset instead.\n",
            "1/1 [==============================] - 0s 23ms/step\n",
            "WARNING:tensorflow:Keras is training/fitting/evaluating on array-like data. Keras may not be optimized for this format, so if your input data format is supported by TensorFlow I/O (https://github.com/tensorflow/io) we recommend using that to load a Dataset instead.\n",
            "1/1 [==============================] - 0s 23ms/step\n",
            "WARNING:tensorflow:Keras is training/fitting/evaluating on array-like data. Keras may not be optimized for this format, so if your input data format is supported by TensorFlow I/O (https://github.com/tensorflow/io) we recommend using that to load a Dataset instead.\n",
            "1/1 [==============================] - 0s 22ms/step\n",
            "WARNING:tensorflow:Keras is training/fitting/evaluating on array-like data. Keras may not be optimized for this format, so if your input data format is supported by TensorFlow I/O (https://github.com/tensorflow/io) we recommend using that to load a Dataset instead.\n",
            "1/1 [==============================] - 0s 22ms/step\n",
            "WARNING:tensorflow:Keras is training/fitting/evaluating on array-like data. Keras may not be optimized for this format, so if your input data format is supported by TensorFlow I/O (https://github.com/tensorflow/io) we recommend using that to load a Dataset instead.\n",
            "1/1 [==============================] - 0s 23ms/step\n",
            "WARNING:tensorflow:Keras is training/fitting/evaluating on array-like data. Keras may not be optimized for this format, so if your input data format is supported by TensorFlow I/O (https://github.com/tensorflow/io) we recommend using that to load a Dataset instead.\n",
            "1/1 [==============================] - 0s 21ms/step\n",
            "WARNING:tensorflow:Keras is training/fitting/evaluating on array-like data. Keras may not be optimized for this format, so if your input data format is supported by TensorFlow I/O (https://github.com/tensorflow/io) we recommend using that to load a Dataset instead.\n",
            "1/1 [==============================] - 0s 23ms/step\n",
            "WARNING:tensorflow:Keras is training/fitting/evaluating on array-like data. Keras may not be optimized for this format, so if your input data format is supported by TensorFlow I/O (https://github.com/tensorflow/io) we recommend using that to load a Dataset instead.\n",
            "1/1 [==============================] - 0s 23ms/step\n",
            "WARNING:tensorflow:Keras is training/fitting/evaluating on array-like data. Keras may not be optimized for this format, so if your input data format is supported by TensorFlow I/O (https://github.com/tensorflow/io) we recommend using that to load a Dataset instead.\n",
            "1/1 [==============================] - 0s 22ms/step\n",
            "WARNING:tensorflow:Keras is training/fitting/evaluating on array-like data. Keras may not be optimized for this format, so if your input data format is supported by TensorFlow I/O (https://github.com/tensorflow/io) we recommend using that to load a Dataset instead.\n",
            "1/1 [==============================] - 0s 24ms/step\n",
            "WARNING:tensorflow:Keras is training/fitting/evaluating on array-like data. Keras may not be optimized for this format, so if your input data format is supported by TensorFlow I/O (https://github.com/tensorflow/io) we recommend using that to load a Dataset instead.\n",
            "1/1 [==============================] - 0s 22ms/step\n",
            "WARNING:tensorflow:Keras is training/fitting/evaluating on array-like data. Keras may not be optimized for this format, so if your input data format is supported by TensorFlow I/O (https://github.com/tensorflow/io) we recommend using that to load a Dataset instead.\n",
            "1/1 [==============================] - 0s 22ms/step\n",
            "WARNING:tensorflow:Keras is training/fitting/evaluating on array-like data. Keras may not be optimized for this format, so if your input data format is supported by TensorFlow I/O (https://github.com/tensorflow/io) we recommend using that to load a Dataset instead.\n",
            "1/1 [==============================] - 0s 26ms/step\n",
            "WARNING:tensorflow:Keras is training/fitting/evaluating on array-like data. Keras may not be optimized for this format, so if your input data format is supported by TensorFlow I/O (https://github.com/tensorflow/io) we recommend using that to load a Dataset instead.\n",
            "1/1 [==============================] - 0s 23ms/step\n",
            "WARNING:tensorflow:Keras is training/fitting/evaluating on array-like data. Keras may not be optimized for this format, so if your input data format is supported by TensorFlow I/O (https://github.com/tensorflow/io) we recommend using that to load a Dataset instead.\n",
            "1/1 [==============================] - 0s 22ms/step\n",
            "WARNING:tensorflow:Keras is training/fitting/evaluating on array-like data. Keras may not be optimized for this format, so if your input data format is supported by TensorFlow I/O (https://github.com/tensorflow/io) we recommend using that to load a Dataset instead.\n",
            "1/1 [==============================] - 0s 21ms/step\n",
            "WARNING:tensorflow:Keras is training/fitting/evaluating on array-like data. Keras may not be optimized for this format, so if your input data format is supported by TensorFlow I/O (https://github.com/tensorflow/io) we recommend using that to load a Dataset instead.\n",
            "1/1 [==============================] - 0s 24ms/step\n",
            "WARNING:tensorflow:Keras is training/fitting/evaluating on array-like data. Keras may not be optimized for this format, so if your input data format is supported by TensorFlow I/O (https://github.com/tensorflow/io) we recommend using that to load a Dataset instead.\n",
            "1/1 [==============================] - 0s 22ms/step\n",
            "WARNING:tensorflow:Keras is training/fitting/evaluating on array-like data. Keras may not be optimized for this format, so if your input data format is supported by TensorFlow I/O (https://github.com/tensorflow/io) we recommend using that to load a Dataset instead.\n",
            "1/1 [==============================] - 0s 26ms/step\n",
            "WARNING:tensorflow:Keras is training/fitting/evaluating on array-like data. Keras may not be optimized for this format, so if your input data format is supported by TensorFlow I/O (https://github.com/tensorflow/io) we recommend using that to load a Dataset instead.\n",
            "1/1 [==============================] - 0s 22ms/step\n",
            "WARNING:tensorflow:Keras is training/fitting/evaluating on array-like data. Keras may not be optimized for this format, so if your input data format is supported by TensorFlow I/O (https://github.com/tensorflow/io) we recommend using that to load a Dataset instead.\n",
            "1/1 [==============================] - 0s 22ms/step\n",
            "WARNING:tensorflow:Keras is training/fitting/evaluating on array-like data. Keras may not be optimized for this format, so if your input data format is supported by TensorFlow I/O (https://github.com/tensorflow/io) we recommend using that to load a Dataset instead.\n",
            "1/1 [==============================] - 0s 24ms/step\n",
            "WARNING:tensorflow:Keras is training/fitting/evaluating on array-like data. Keras may not be optimized for this format, so if your input data format is supported by TensorFlow I/O (https://github.com/tensorflow/io) we recommend using that to load a Dataset instead.\n",
            "1/1 [==============================] - 0s 22ms/step\n",
            "WARNING:tensorflow:Keras is training/fitting/evaluating on array-like data. Keras may not be optimized for this format, so if your input data format is supported by TensorFlow I/O (https://github.com/tensorflow/io) we recommend using that to load a Dataset instead.\n",
            "1/1 [==============================] - 0s 22ms/step\n",
            "WARNING:tensorflow:Keras is training/fitting/evaluating on array-like data. Keras may not be optimized for this format, so if your input data format is supported by TensorFlow I/O (https://github.com/tensorflow/io) we recommend using that to load a Dataset instead.\n",
            "1/1 [==============================] - 0s 24ms/step\n",
            "WARNING:tensorflow:Keras is training/fitting/evaluating on array-like data. Keras may not be optimized for this format, so if your input data format is supported by TensorFlow I/O (https://github.com/tensorflow/io) we recommend using that to load a Dataset instead.\n",
            "1/1 [==============================] - 0s 23ms/step\n",
            "WARNING:tensorflow:Keras is training/fitting/evaluating on array-like data. Keras may not be optimized for this format, so if your input data format is supported by TensorFlow I/O (https://github.com/tensorflow/io) we recommend using that to load a Dataset instead.\n",
            "1/1 [==============================] - 0s 23ms/step\n",
            "WARNING:tensorflow:Keras is training/fitting/evaluating on array-like data. Keras may not be optimized for this format, so if your input data format is supported by TensorFlow I/O (https://github.com/tensorflow/io) we recommend using that to load a Dataset instead.\n",
            "1/1 [==============================] - 0s 23ms/step\n",
            "WARNING:tensorflow:Keras is training/fitting/evaluating on array-like data. Keras may not be optimized for this format, so if your input data format is supported by TensorFlow I/O (https://github.com/tensorflow/io) we recommend using that to load a Dataset instead.\n",
            "1/1 [==============================] - 0s 22ms/step\n",
            "WARNING:tensorflow:Keras is training/fitting/evaluating on array-like data. Keras may not be optimized for this format, so if your input data format is supported by TensorFlow I/O (https://github.com/tensorflow/io) we recommend using that to load a Dataset instead.\n",
            "1/1 [==============================] - 0s 24ms/step\n",
            "WARNING:tensorflow:Keras is training/fitting/evaluating on array-like data. Keras may not be optimized for this format, so if your input data format is supported by TensorFlow I/O (https://github.com/tensorflow/io) we recommend using that to load a Dataset instead.\n",
            "1/1 [==============================] - 0s 22ms/step\n",
            "WARNING:tensorflow:Keras is training/fitting/evaluating on array-like data. Keras may not be optimized for this format, so if your input data format is supported by TensorFlow I/O (https://github.com/tensorflow/io) we recommend using that to load a Dataset instead.\n",
            "1/1 [==============================] - 0s 23ms/step\n",
            "WARNING:tensorflow:Keras is training/fitting/evaluating on array-like data. Keras may not be optimized for this format, so if your input data format is supported by TensorFlow I/O (https://github.com/tensorflow/io) we recommend using that to load a Dataset instead.\n",
            "1/1 [==============================] - 0s 23ms/step\n",
            "WARNING:tensorflow:Keras is training/fitting/evaluating on array-like data. Keras may not be optimized for this format, so if your input data format is supported by TensorFlow I/O (https://github.com/tensorflow/io) we recommend using that to load a Dataset instead.\n",
            "1/1 [==============================] - 0s 23ms/step\n",
            "WARNING:tensorflow:Keras is training/fitting/evaluating on array-like data. Keras may not be optimized for this format, so if your input data format is supported by TensorFlow I/O (https://github.com/tensorflow/io) we recommend using that to load a Dataset instead.\n",
            "1/1 [==============================] - 0s 22ms/step\n",
            "WARNING:tensorflow:Keras is training/fitting/evaluating on array-like data. Keras may not be optimized for this format, so if your input data format is supported by TensorFlow I/O (https://github.com/tensorflow/io) we recommend using that to load a Dataset instead.\n",
            "1/1 [==============================] - 0s 22ms/step\n",
            "WARNING:tensorflow:Keras is training/fitting/evaluating on array-like data. Keras may not be optimized for this format, so if your input data format is supported by TensorFlow I/O (https://github.com/tensorflow/io) we recommend using that to load a Dataset instead.\n",
            "1/1 [==============================] - 0s 24ms/step\n",
            "WARNING:tensorflow:Keras is training/fitting/evaluating on array-like data. Keras may not be optimized for this format, so if your input data format is supported by TensorFlow I/O (https://github.com/tensorflow/io) we recommend using that to load a Dataset instead.\n",
            "1/1 [==============================] - 0s 24ms/step\n",
            "WARNING:tensorflow:Keras is training/fitting/evaluating on array-like data. Keras may not be optimized for this format, so if your input data format is supported by TensorFlow I/O (https://github.com/tensorflow/io) we recommend using that to load a Dataset instead.\n",
            "1/1 [==============================] - 0s 21ms/step\n",
            "WARNING:tensorflow:Keras is training/fitting/evaluating on array-like data. Keras may not be optimized for this format, so if your input data format is supported by TensorFlow I/O (https://github.com/tensorflow/io) we recommend using that to load a Dataset instead.\n",
            "1/1 [==============================] - 0s 24ms/step\n",
            "WARNING:tensorflow:Keras is training/fitting/evaluating on array-like data. Keras may not be optimized for this format, so if your input data format is supported by TensorFlow I/O (https://github.com/tensorflow/io) we recommend using that to load a Dataset instead.\n",
            "1/1 [==============================] - 0s 23ms/step\n",
            "WARNING:tensorflow:Keras is training/fitting/evaluating on array-like data. Keras may not be optimized for this format, so if your input data format is supported by TensorFlow I/O (https://github.com/tensorflow/io) we recommend using that to load a Dataset instead.\n",
            "1/1 [==============================] - 0s 22ms/step\n",
            "WARNING:tensorflow:Keras is training/fitting/evaluating on array-like data. Keras may not be optimized for this format, so if your input data format is supported by TensorFlow I/O (https://github.com/tensorflow/io) we recommend using that to load a Dataset instead.\n",
            "1/1 [==============================] - 0s 22ms/step\n",
            "WARNING:tensorflow:Keras is training/fitting/evaluating on array-like data. Keras may not be optimized for this format, so if your input data format is supported by TensorFlow I/O (https://github.com/tensorflow/io) we recommend using that to load a Dataset instead.\n",
            "1/1 [==============================] - 0s 21ms/step\n",
            "WARNING:tensorflow:Keras is training/fitting/evaluating on array-like data. Keras may not be optimized for this format, so if your input data format is supported by TensorFlow I/O (https://github.com/tensorflow/io) we recommend using that to load a Dataset instead.\n",
            "1/1 [==============================] - 0s 22ms/step\n",
            "WARNING:tensorflow:Keras is training/fitting/evaluating on array-like data. Keras may not be optimized for this format, so if your input data format is supported by TensorFlow I/O (https://github.com/tensorflow/io) we recommend using that to load a Dataset instead.\n",
            "1/1 [==============================] - 0s 23ms/step\n",
            "WARNING:tensorflow:Keras is training/fitting/evaluating on array-like data. Keras may not be optimized for this format, so if your input data format is supported by TensorFlow I/O (https://github.com/tensorflow/io) we recommend using that to load a Dataset instead.\n",
            "1/1 [==============================] - 0s 24ms/step\n",
            "WARNING:tensorflow:Keras is training/fitting/evaluating on array-like data. Keras may not be optimized for this format, so if your input data format is supported by TensorFlow I/O (https://github.com/tensorflow/io) we recommend using that to load a Dataset instead.\n",
            "1/1 [==============================] - 0s 23ms/step\n",
            "WARNING:tensorflow:Keras is training/fitting/evaluating on array-like data. Keras may not be optimized for this format, so if your input data format is supported by TensorFlow I/O (https://github.com/tensorflow/io) we recommend using that to load a Dataset instead.\n",
            "1/1 [==============================] - 0s 22ms/step\n",
            "WARNING:tensorflow:Keras is training/fitting/evaluating on array-like data. Keras may not be optimized for this format, so if your input data format is supported by TensorFlow I/O (https://github.com/tensorflow/io) we recommend using that to load a Dataset instead.\n",
            "1/1 [==============================] - 0s 23ms/step\n",
            "WARNING:tensorflow:Keras is training/fitting/evaluating on array-like data. Keras may not be optimized for this format, so if your input data format is supported by TensorFlow I/O (https://github.com/tensorflow/io) we recommend using that to load a Dataset instead.\n",
            "1/1 [==============================] - 0s 23ms/step\n",
            "WARNING:tensorflow:Keras is training/fitting/evaluating on array-like data. Keras may not be optimized for this format, so if your input data format is supported by TensorFlow I/O (https://github.com/tensorflow/io) we recommend using that to load a Dataset instead.\n",
            "1/1 [==============================] - 0s 23ms/step\n",
            "WARNING:tensorflow:Keras is training/fitting/evaluating on array-like data. Keras may not be optimized for this format, so if your input data format is supported by TensorFlow I/O (https://github.com/tensorflow/io) we recommend using that to load a Dataset instead.\n",
            "1/1 [==============================] - 0s 22ms/step\n",
            "WARNING:tensorflow:Keras is training/fitting/evaluating on array-like data. Keras may not be optimized for this format, so if your input data format is supported by TensorFlow I/O (https://github.com/tensorflow/io) we recommend using that to load a Dataset instead.\n",
            "1/1 [==============================] - 0s 22ms/step\n",
            "WARNING:tensorflow:Keras is training/fitting/evaluating on array-like data. Keras may not be optimized for this format, so if your input data format is supported by TensorFlow I/O (https://github.com/tensorflow/io) we recommend using that to load a Dataset instead.\n",
            "1/1 [==============================] - 0s 24ms/step\n",
            "WARNING:tensorflow:Keras is training/fitting/evaluating on array-like data. Keras may not be optimized for this format, so if your input data format is supported by TensorFlow I/O (https://github.com/tensorflow/io) we recommend using that to load a Dataset instead.\n",
            "1/1 [==============================] - 0s 22ms/step\n",
            "WARNING:tensorflow:Keras is training/fitting/evaluating on array-like data. Keras may not be optimized for this format, so if your input data format is supported by TensorFlow I/O (https://github.com/tensorflow/io) we recommend using that to load a Dataset instead.\n",
            "1/1 [==============================] - 0s 22ms/step\n",
            "WARNING:tensorflow:Keras is training/fitting/evaluating on array-like data. Keras may not be optimized for this format, so if your input data format is supported by TensorFlow I/O (https://github.com/tensorflow/io) we recommend using that to load a Dataset instead.\n",
            "1/1 [==============================] - 0s 23ms/step\n",
            "WARNING:tensorflow:Keras is training/fitting/evaluating on array-like data. Keras may not be optimized for this format, so if your input data format is supported by TensorFlow I/O (https://github.com/tensorflow/io) we recommend using that to load a Dataset instead.\n",
            "1/1 [==============================] - 0s 22ms/step\n",
            "WARNING:tensorflow:Keras is training/fitting/evaluating on array-like data. Keras may not be optimized for this format, so if your input data format is supported by TensorFlow I/O (https://github.com/tensorflow/io) we recommend using that to load a Dataset instead.\n",
            "1/1 [==============================] - 0s 24ms/step\n",
            "WARNING:tensorflow:Keras is training/fitting/evaluating on array-like data. Keras may not be optimized for this format, so if your input data format is supported by TensorFlow I/O (https://github.com/tensorflow/io) we recommend using that to load a Dataset instead.\n",
            "1/1 [==============================] - 0s 22ms/step\n",
            "WARNING:tensorflow:Keras is training/fitting/evaluating on array-like data. Keras may not be optimized for this format, so if your input data format is supported by TensorFlow I/O (https://github.com/tensorflow/io) we recommend using that to load a Dataset instead.\n",
            "1/1 [==============================] - 0s 22ms/step\n",
            "WARNING:tensorflow:Keras is training/fitting/evaluating on array-like data. Keras may not be optimized for this format, so if your input data format is supported by TensorFlow I/O (https://github.com/tensorflow/io) we recommend using that to load a Dataset instead.\n",
            "1/1 [==============================] - 0s 22ms/step\n",
            "WARNING:tensorflow:Keras is training/fitting/evaluating on array-like data. Keras may not be optimized for this format, so if your input data format is supported by TensorFlow I/O (https://github.com/tensorflow/io) we recommend using that to load a Dataset instead.\n",
            "1/1 [==============================] - 0s 22ms/step\n",
            "WARNING:tensorflow:Keras is training/fitting/evaluating on array-like data. Keras may not be optimized for this format, so if your input data format is supported by TensorFlow I/O (https://github.com/tensorflow/io) we recommend using that to load a Dataset instead.\n",
            "1/1 [==============================] - 0s 22ms/step\n",
            "WARNING:tensorflow:Keras is training/fitting/evaluating on array-like data. Keras may not be optimized for this format, so if your input data format is supported by TensorFlow I/O (https://github.com/tensorflow/io) we recommend using that to load a Dataset instead.\n",
            "1/1 [==============================] - 0s 24ms/step\n",
            "WARNING:tensorflow:Keras is training/fitting/evaluating on array-like data. Keras may not be optimized for this format, so if your input data format is supported by TensorFlow I/O (https://github.com/tensorflow/io) we recommend using that to load a Dataset instead.\n",
            "1/1 [==============================] - 0s 22ms/step\n",
            "WARNING:tensorflow:Keras is training/fitting/evaluating on array-like data. Keras may not be optimized for this format, so if your input data format is supported by TensorFlow I/O (https://github.com/tensorflow/io) we recommend using that to load a Dataset instead.\n",
            "1/1 [==============================] - 0s 22ms/step\n",
            "WARNING:tensorflow:Keras is training/fitting/evaluating on array-like data. Keras may not be optimized for this format, so if your input data format is supported by TensorFlow I/O (https://github.com/tensorflow/io) we recommend using that to load a Dataset instead.\n",
            "1/1 [==============================] - 0s 24ms/step\n",
            "WARNING:tensorflow:Keras is training/fitting/evaluating on array-like data. Keras may not be optimized for this format, so if your input data format is supported by TensorFlow I/O (https://github.com/tensorflow/io) we recommend using that to load a Dataset instead.\n",
            "1/1 [==============================] - 0s 23ms/step\n",
            "WARNING:tensorflow:Keras is training/fitting/evaluating on array-like data. Keras may not be optimized for this format, so if your input data format is supported by TensorFlow I/O (https://github.com/tensorflow/io) we recommend using that to load a Dataset instead.\n",
            "1/1 [==============================] - 0s 23ms/step\n",
            "WARNING:tensorflow:Keras is training/fitting/evaluating on array-like data. Keras may not be optimized for this format, so if your input data format is supported by TensorFlow I/O (https://github.com/tensorflow/io) we recommend using that to load a Dataset instead.\n",
            "1/1 [==============================] - 0s 21ms/step\n",
            "WARNING:tensorflow:Keras is training/fitting/evaluating on array-like data. Keras may not be optimized for this format, so if your input data format is supported by TensorFlow I/O (https://github.com/tensorflow/io) we recommend using that to load a Dataset instead.\n",
            "1/1 [==============================] - 0s 22ms/step\n",
            "WARNING:tensorflow:Keras is training/fitting/evaluating on array-like data. Keras may not be optimized for this format, so if your input data format is supported by TensorFlow I/O (https://github.com/tensorflow/io) we recommend using that to load a Dataset instead.\n",
            "1/1 [==============================] - 0s 22ms/step\n",
            "WARNING:tensorflow:Keras is training/fitting/evaluating on array-like data. Keras may not be optimized for this format, so if your input data format is supported by TensorFlow I/O (https://github.com/tensorflow/io) we recommend using that to load a Dataset instead.\n",
            "1/1 [==============================] - 0s 23ms/step\n",
            "WARNING:tensorflow:Keras is training/fitting/evaluating on array-like data. Keras may not be optimized for this format, so if your input data format is supported by TensorFlow I/O (https://github.com/tensorflow/io) we recommend using that to load a Dataset instead.\n",
            "1/1 [==============================] - 0s 22ms/step\n",
            "WARNING:tensorflow:Keras is training/fitting/evaluating on array-like data. Keras may not be optimized for this format, so if your input data format is supported by TensorFlow I/O (https://github.com/tensorflow/io) we recommend using that to load a Dataset instead.\n",
            "1/1 [==============================] - 0s 23ms/step\n",
            "WARNING:tensorflow:Keras is training/fitting/evaluating on array-like data. Keras may not be optimized for this format, so if your input data format is supported by TensorFlow I/O (https://github.com/tensorflow/io) we recommend using that to load a Dataset instead.\n",
            "1/1 [==============================] - 0s 22ms/step\n",
            "WARNING:tensorflow:Keras is training/fitting/evaluating on array-like data. Keras may not be optimized for this format, so if your input data format is supported by TensorFlow I/O (https://github.com/tensorflow/io) we recommend using that to load a Dataset instead.\n",
            "1/1 [==============================] - 0s 22ms/step\n",
            "WARNING:tensorflow:Keras is training/fitting/evaluating on array-like data. Keras may not be optimized for this format, so if your input data format is supported by TensorFlow I/O (https://github.com/tensorflow/io) we recommend using that to load a Dataset instead.\n",
            "1/1 [==============================] - 0s 22ms/step\n",
            "WARNING:tensorflow:Keras is training/fitting/evaluating on array-like data. Keras may not be optimized for this format, so if your input data format is supported by TensorFlow I/O (https://github.com/tensorflow/io) we recommend using that to load a Dataset instead.\n",
            "1/1 [==============================] - 0s 22ms/step\n",
            "WARNING:tensorflow:Keras is training/fitting/evaluating on array-like data. Keras may not be optimized for this format, so if your input data format is supported by TensorFlow I/O (https://github.com/tensorflow/io) we recommend using that to load a Dataset instead.\n",
            "1/1 [==============================] - 0s 22ms/step\n",
            "WARNING:tensorflow:Keras is training/fitting/evaluating on array-like data. Keras may not be optimized for this format, so if your input data format is supported by TensorFlow I/O (https://github.com/tensorflow/io) we recommend using that to load a Dataset instead.\n",
            "1/1 [==============================] - 0s 22ms/step\n",
            "WARNING:tensorflow:Keras is training/fitting/evaluating on array-like data. Keras may not be optimized for this format, so if your input data format is supported by TensorFlow I/O (https://github.com/tensorflow/io) we recommend using that to load a Dataset instead.\n",
            "1/1 [==============================] - 0s 37ms/step\n",
            "WARNING:tensorflow:Keras is training/fitting/evaluating on array-like data. Keras may not be optimized for this format, so if your input data format is supported by TensorFlow I/O (https://github.com/tensorflow/io) we recommend using that to load a Dataset instead.\n",
            "1/1 [==============================] - 0s 24ms/step\n",
            "WARNING:tensorflow:Keras is training/fitting/evaluating on array-like data. Keras may not be optimized for this format, so if your input data format is supported by TensorFlow I/O (https://github.com/tensorflow/io) we recommend using that to load a Dataset instead.\n",
            "1/1 [==============================] - 0s 23ms/step\n",
            "WARNING:tensorflow:Keras is training/fitting/evaluating on array-like data. Keras may not be optimized for this format, so if your input data format is supported by TensorFlow I/O (https://github.com/tensorflow/io) we recommend using that to load a Dataset instead.\n",
            "1/1 [==============================] - 0s 23ms/step\n",
            "WARNING:tensorflow:Keras is training/fitting/evaluating on array-like data. Keras may not be optimized for this format, so if your input data format is supported by TensorFlow I/O (https://github.com/tensorflow/io) we recommend using that to load a Dataset instead.\n",
            "1/1 [==============================] - 0s 21ms/step\n",
            "WARNING:tensorflow:Keras is training/fitting/evaluating on array-like data. Keras may not be optimized for this format, so if your input data format is supported by TensorFlow I/O (https://github.com/tensorflow/io) we recommend using that to load a Dataset instead.\n",
            "1/1 [==============================] - 0s 22ms/step\n",
            "WARNING:tensorflow:Keras is training/fitting/evaluating on array-like data. Keras may not be optimized for this format, so if your input data format is supported by TensorFlow I/O (https://github.com/tensorflow/io) we recommend using that to load a Dataset instead.\n",
            "1/1 [==============================] - 0s 24ms/step\n",
            "WARNING:tensorflow:Keras is training/fitting/evaluating on array-like data. Keras may not be optimized for this format, so if your input data format is supported by TensorFlow I/O (https://github.com/tensorflow/io) we recommend using that to load a Dataset instead.\n",
            "1/1 [==============================] - 0s 23ms/step\n",
            "WARNING:tensorflow:Keras is training/fitting/evaluating on array-like data. Keras may not be optimized for this format, so if your input data format is supported by TensorFlow I/O (https://github.com/tensorflow/io) we recommend using that to load a Dataset instead.\n",
            "1/1 [==============================] - 0s 22ms/step\n",
            "WARNING:tensorflow:Keras is training/fitting/evaluating on array-like data. Keras may not be optimized for this format, so if your input data format is supported by TensorFlow I/O (https://github.com/tensorflow/io) we recommend using that to load a Dataset instead.\n",
            "1/1 [==============================] - 0s 22ms/step\n",
            "WARNING:tensorflow:Keras is training/fitting/evaluating on array-like data. Keras may not be optimized for this format, so if your input data format is supported by TensorFlow I/O (https://github.com/tensorflow/io) we recommend using that to load a Dataset instead.\n",
            "1/1 [==============================] - 0s 23ms/step\n",
            "WARNING:tensorflow:Keras is training/fitting/evaluating on array-like data. Keras may not be optimized for this format, so if your input data format is supported by TensorFlow I/O (https://github.com/tensorflow/io) we recommend using that to load a Dataset instead.\n",
            "1/1 [==============================] - 0s 22ms/step\n",
            "WARNING:tensorflow:Keras is training/fitting/evaluating on array-like data. Keras may not be optimized for this format, so if your input data format is supported by TensorFlow I/O (https://github.com/tensorflow/io) we recommend using that to load a Dataset instead.\n",
            "1/1 [==============================] - 0s 22ms/step\n",
            "WARNING:tensorflow:Keras is training/fitting/evaluating on array-like data. Keras may not be optimized for this format, so if your input data format is supported by TensorFlow I/O (https://github.com/tensorflow/io) we recommend using that to load a Dataset instead.\n",
            "1/1 [==============================] - 0s 22ms/step\n",
            "WARNING:tensorflow:Keras is training/fitting/evaluating on array-like data. Keras may not be optimized for this format, so if your input data format is supported by TensorFlow I/O (https://github.com/tensorflow/io) we recommend using that to load a Dataset instead.\n",
            "1/1 [==============================] - 0s 25ms/step\n",
            "WARNING:tensorflow:Keras is training/fitting/evaluating on array-like data. Keras may not be optimized for this format, so if your input data format is supported by TensorFlow I/O (https://github.com/tensorflow/io) we recommend using that to load a Dataset instead.\n",
            "1/1 [==============================] - 0s 22ms/step\n",
            "WARNING:tensorflow:Keras is training/fitting/evaluating on array-like data. Keras may not be optimized for this format, so if your input data format is supported by TensorFlow I/O (https://github.com/tensorflow/io) we recommend using that to load a Dataset instead.\n",
            "1/1 [==============================] - 0s 22ms/step\n",
            "WARNING:tensorflow:Keras is training/fitting/evaluating on array-like data. Keras may not be optimized for this format, so if your input data format is supported by TensorFlow I/O (https://github.com/tensorflow/io) we recommend using that to load a Dataset instead.\n",
            "1/1 [==============================] - 0s 23ms/step\n",
            "WARNING:tensorflow:Keras is training/fitting/evaluating on array-like data. Keras may not be optimized for this format, so if your input data format is supported by TensorFlow I/O (https://github.com/tensorflow/io) we recommend using that to load a Dataset instead.\n",
            "1/1 [==============================] - 0s 40ms/step\n",
            "WARNING:tensorflow:Keras is training/fitting/evaluating on array-like data. Keras may not be optimized for this format, so if your input data format is supported by TensorFlow I/O (https://github.com/tensorflow/io) we recommend using that to load a Dataset instead.\n",
            "1/1 [==============================] - 0s 21ms/step\n",
            "WARNING:tensorflow:Keras is training/fitting/evaluating on array-like data. Keras may not be optimized for this format, so if your input data format is supported by TensorFlow I/O (https://github.com/tensorflow/io) we recommend using that to load a Dataset instead.\n",
            "1/1 [==============================] - 0s 22ms/step\n",
            "WARNING:tensorflow:Keras is training/fitting/evaluating on array-like data. Keras may not be optimized for this format, so if your input data format is supported by TensorFlow I/O (https://github.com/tensorflow/io) we recommend using that to load a Dataset instead.\n",
            "1/1 [==============================] - 0s 23ms/step\n",
            "WARNING:tensorflow:Keras is training/fitting/evaluating on array-like data. Keras may not be optimized for this format, so if your input data format is supported by TensorFlow I/O (https://github.com/tensorflow/io) we recommend using that to load a Dataset instead.\n",
            "1/1 [==============================] - 0s 22ms/step\n",
            "WARNING:tensorflow:Keras is training/fitting/evaluating on array-like data. Keras may not be optimized for this format, so if your input data format is supported by TensorFlow I/O (https://github.com/tensorflow/io) we recommend using that to load a Dataset instead.\n",
            "1/1 [==============================] - 0s 22ms/step\n",
            "WARNING:tensorflow:Keras is training/fitting/evaluating on array-like data. Keras may not be optimized for this format, so if your input data format is supported by TensorFlow I/O (https://github.com/tensorflow/io) we recommend using that to load a Dataset instead.\n",
            "1/1 [==============================] - 0s 22ms/step\n",
            "WARNING:tensorflow:Keras is training/fitting/evaluating on array-like data. Keras may not be optimized for this format, so if your input data format is supported by TensorFlow I/O (https://github.com/tensorflow/io) we recommend using that to load a Dataset instead.\n",
            "1/1 [==============================] - 0s 22ms/step\n",
            "WARNING:tensorflow:Keras is training/fitting/evaluating on array-like data. Keras may not be optimized for this format, so if your input data format is supported by TensorFlow I/O (https://github.com/tensorflow/io) we recommend using that to load a Dataset instead.\n",
            "1/1 [==============================] - 0s 22ms/step\n",
            "WARNING:tensorflow:Keras is training/fitting/evaluating on array-like data. Keras may not be optimized for this format, so if your input data format is supported by TensorFlow I/O (https://github.com/tensorflow/io) we recommend using that to load a Dataset instead.\n",
            "1/1 [==============================] - 0s 24ms/step\n",
            "WARNING:tensorflow:Keras is training/fitting/evaluating on array-like data. Keras may not be optimized for this format, so if your input data format is supported by TensorFlow I/O (https://github.com/tensorflow/io) we recommend using that to load a Dataset instead.\n",
            "1/1 [==============================] - 0s 22ms/step\n",
            "WARNING:tensorflow:Keras is training/fitting/evaluating on array-like data. Keras may not be optimized for this format, so if your input data format is supported by TensorFlow I/O (https://github.com/tensorflow/io) we recommend using that to load a Dataset instead.\n",
            "1/1 [==============================] - 0s 22ms/step\n",
            "WARNING:tensorflow:Keras is training/fitting/evaluating on array-like data. Keras may not be optimized for this format, so if your input data format is supported by TensorFlow I/O (https://github.com/tensorflow/io) we recommend using that to load a Dataset instead.\n",
            "1/1 [==============================] - 0s 22ms/step\n",
            "WARNING:tensorflow:Keras is training/fitting/evaluating on array-like data. Keras may not be optimized for this format, so if your input data format is supported by TensorFlow I/O (https://github.com/tensorflow/io) we recommend using that to load a Dataset instead.\n",
            "1/1 [==============================] - 0s 22ms/step\n",
            "WARNING:tensorflow:Keras is training/fitting/evaluating on array-like data. Keras may not be optimized for this format, so if your input data format is supported by TensorFlow I/O (https://github.com/tensorflow/io) we recommend using that to load a Dataset instead.\n",
            "1/1 [==============================] - 0s 21ms/step\n",
            "WARNING:tensorflow:Keras is training/fitting/evaluating on array-like data. Keras may not be optimized for this format, so if your input data format is supported by TensorFlow I/O (https://github.com/tensorflow/io) we recommend using that to load a Dataset instead.\n",
            "1/1 [==============================] - 0s 23ms/step\n",
            "WARNING:tensorflow:Keras is training/fitting/evaluating on array-like data. Keras may not be optimized for this format, so if your input data format is supported by TensorFlow I/O (https://github.com/tensorflow/io) we recommend using that to load a Dataset instead.\n",
            "1/1 [==============================] - 0s 22ms/step\n",
            "WARNING:tensorflow:Keras is training/fitting/evaluating on array-like data. Keras may not be optimized for this format, so if your input data format is supported by TensorFlow I/O (https://github.com/tensorflow/io) we recommend using that to load a Dataset instead.\n",
            "1/1 [==============================] - 0s 21ms/step\n",
            "WARNING:tensorflow:Keras is training/fitting/evaluating on array-like data. Keras may not be optimized for this format, so if your input data format is supported by TensorFlow I/O (https://github.com/tensorflow/io) we recommend using that to load a Dataset instead.\n",
            "1/1 [==============================] - 0s 22ms/step\n",
            "WARNING:tensorflow:Keras is training/fitting/evaluating on array-like data. Keras may not be optimized for this format, so if your input data format is supported by TensorFlow I/O (https://github.com/tensorflow/io) we recommend using that to load a Dataset instead.\n",
            "1/1 [==============================] - 0s 23ms/step\n",
            "WARNING:tensorflow:Keras is training/fitting/evaluating on array-like data. Keras may not be optimized for this format, so if your input data format is supported by TensorFlow I/O (https://github.com/tensorflow/io) we recommend using that to load a Dataset instead.\n",
            "1/1 [==============================] - 0s 22ms/step\n",
            "WARNING:tensorflow:Keras is training/fitting/evaluating on array-like data. Keras may not be optimized for this format, so if your input data format is supported by TensorFlow I/O (https://github.com/tensorflow/io) we recommend using that to load a Dataset instead.\n",
            "1/1 [==============================] - 0s 26ms/step\n",
            "WARNING:tensorflow:Keras is training/fitting/evaluating on array-like data. Keras may not be optimized for this format, so if your input data format is supported by TensorFlow I/O (https://github.com/tensorflow/io) we recommend using that to load a Dataset instead.\n",
            "1/1 [==============================] - 0s 23ms/step\n",
            "WARNING:tensorflow:Keras is training/fitting/evaluating on array-like data. Keras may not be optimized for this format, so if your input data format is supported by TensorFlow I/O (https://github.com/tensorflow/io) we recommend using that to load a Dataset instead.\n",
            "1/1 [==============================] - 0s 22ms/step\n",
            "WARNING:tensorflow:Keras is training/fitting/evaluating on array-like data. Keras may not be optimized for this format, so if your input data format is supported by TensorFlow I/O (https://github.com/tensorflow/io) we recommend using that to load a Dataset instead.\n",
            "1/1 [==============================] - 0s 22ms/step\n",
            "WARNING:tensorflow:Keras is training/fitting/evaluating on array-like data. Keras may not be optimized for this format, so if your input data format is supported by TensorFlow I/O (https://github.com/tensorflow/io) we recommend using that to load a Dataset instead.\n",
            "1/1 [==============================] - 0s 22ms/step\n",
            "WARNING:tensorflow:Keras is training/fitting/evaluating on array-like data. Keras may not be optimized for this format, so if your input data format is supported by TensorFlow I/O (https://github.com/tensorflow/io) we recommend using that to load a Dataset instead.\n",
            "1/1 [==============================] - 0s 22ms/step\n",
            "WARNING:tensorflow:Keras is training/fitting/evaluating on array-like data. Keras may not be optimized for this format, so if your input data format is supported by TensorFlow I/O (https://github.com/tensorflow/io) we recommend using that to load a Dataset instead.\n",
            "1/1 [==============================] - 0s 21ms/step\n",
            "WARNING:tensorflow:Keras is training/fitting/evaluating on array-like data. Keras may not be optimized for this format, so if your input data format is supported by TensorFlow I/O (https://github.com/tensorflow/io) we recommend using that to load a Dataset instead.\n",
            "1/1 [==============================] - 0s 22ms/step\n",
            "WARNING:tensorflow:Keras is training/fitting/evaluating on array-like data. Keras may not be optimized for this format, so if your input data format is supported by TensorFlow I/O (https://github.com/tensorflow/io) we recommend using that to load a Dataset instead.\n",
            "1/1 [==============================] - 0s 22ms/step\n",
            "WARNING:tensorflow:Keras is training/fitting/evaluating on array-like data. Keras may not be optimized for this format, so if your input data format is supported by TensorFlow I/O (https://github.com/tensorflow/io) we recommend using that to load a Dataset instead.\n",
            "1/1 [==============================] - 0s 24ms/step\n",
            "WARNING:tensorflow:Keras is training/fitting/evaluating on array-like data. Keras may not be optimized for this format, so if your input data format is supported by TensorFlow I/O (https://github.com/tensorflow/io) we recommend using that to load a Dataset instead.\n",
            "1/1 [==============================] - 0s 21ms/step\n",
            "WARNING:tensorflow:Keras is training/fitting/evaluating on array-like data. Keras may not be optimized for this format, so if your input data format is supported by TensorFlow I/O (https://github.com/tensorflow/io) we recommend using that to load a Dataset instead.\n",
            "1/1 [==============================] - 0s 22ms/step\n",
            "WARNING:tensorflow:Keras is training/fitting/evaluating on array-like data. Keras may not be optimized for this format, so if your input data format is supported by TensorFlow I/O (https://github.com/tensorflow/io) we recommend using that to load a Dataset instead.\n",
            "1/1 [==============================] - 0s 22ms/step\n",
            "WARNING:tensorflow:Keras is training/fitting/evaluating on array-like data. Keras may not be optimized for this format, so if your input data format is supported by TensorFlow I/O (https://github.com/tensorflow/io) we recommend using that to load a Dataset instead.\n",
            "1/1 [==============================] - 0s 22ms/step\n",
            "WARNING:tensorflow:Keras is training/fitting/evaluating on array-like data. Keras may not be optimized for this format, so if your input data format is supported by TensorFlow I/O (https://github.com/tensorflow/io) we recommend using that to load a Dataset instead.\n",
            "1/1 [==============================] - 0s 22ms/step\n",
            "WARNING:tensorflow:Keras is training/fitting/evaluating on array-like data. Keras may not be optimized for this format, so if your input data format is supported by TensorFlow I/O (https://github.com/tensorflow/io) we recommend using that to load a Dataset instead.\n",
            "1/1 [==============================] - 0s 22ms/step\n",
            "WARNING:tensorflow:Keras is training/fitting/evaluating on array-like data. Keras may not be optimized for this format, so if your input data format is supported by TensorFlow I/O (https://github.com/tensorflow/io) we recommend using that to load a Dataset instead.\n",
            "1/1 [==============================] - 0s 38ms/step\n",
            "WARNING:tensorflow:Keras is training/fitting/evaluating on array-like data. Keras may not be optimized for this format, so if your input data format is supported by TensorFlow I/O (https://github.com/tensorflow/io) we recommend using that to load a Dataset instead.\n",
            "1/1 [==============================] - 0s 23ms/step\n",
            "WARNING:tensorflow:Keras is training/fitting/evaluating on array-like data. Keras may not be optimized for this format, so if your input data format is supported by TensorFlow I/O (https://github.com/tensorflow/io) we recommend using that to load a Dataset instead.\n",
            "1/1 [==============================] - 0s 22ms/step\n",
            "WARNING:tensorflow:Keras is training/fitting/evaluating on array-like data. Keras may not be optimized for this format, so if your input data format is supported by TensorFlow I/O (https://github.com/tensorflow/io) we recommend using that to load a Dataset instead.\n",
            "1/1 [==============================] - 0s 22ms/step\n",
            "WARNING:tensorflow:Keras is training/fitting/evaluating on array-like data. Keras may not be optimized for this format, so if your input data format is supported by TensorFlow I/O (https://github.com/tensorflow/io) we recommend using that to load a Dataset instead.\n",
            "1/1 [==============================] - 0s 22ms/step\n",
            "WARNING:tensorflow:Keras is training/fitting/evaluating on array-like data. Keras may not be optimized for this format, so if your input data format is supported by TensorFlow I/O (https://github.com/tensorflow/io) we recommend using that to load a Dataset instead.\n",
            "1/1 [==============================] - 0s 21ms/step\n",
            "WARNING:tensorflow:Keras is training/fitting/evaluating on array-like data. Keras may not be optimized for this format, so if your input data format is supported by TensorFlow I/O (https://github.com/tensorflow/io) we recommend using that to load a Dataset instead.\n",
            "1/1 [==============================] - 0s 22ms/step\n"
          ]
        }
      ],
      "source": [
        "N_samples = 256\n",
        "Signal = []\n",
        "Pol = []\n",
        "Prediction = []\n",
        "\n",
        "for n in range(N_samples):\n",
        "\n",
        "    image = dataset.update().resolve()\n",
        "    integrated_signal = get_label(image)\n",
        "    polarizability = get_polarizability(image)\n",
        "\n",
        "    prediction = model.predict(np.expand_dims(image[0], axis=0))\n",
        "\n",
        "    Signal.append(integrated_signal)\n",
        "    Pol.append(polarizability)\n",
        "    Prediction.append(prediction[0])\n"
      ]
    },
    {
      "cell_type": "code",
      "execution_count": null,
      "id": "61932dcd",
      "metadata": {},
      "outputs": [],
      "source": [
        "Signal = np.array(Signal)\n",
        "Pol = np.array(Pol)\n",
        "Prediction = np.array(Prediction)\n"
      ]
    },
    {
      "cell_type": "code",
      "execution_count": null,
      "id": "160f57fe",
      "metadata": {},
      "outputs": [
        {
          "data": {
            "image/png": "[encoded data removed]",
            "text/plain": [
              "<Figure size 600x600 with 1 Axes>"
            ]
          },
          "metadata": {},
          "output_type": "display_data"
        }
      ],
      "source": [
        "plt.figure(figsize=(6, 6))\n",
        "plt.scatter(Signal, Prediction, s=10)\n",
        "plt.show()"
      ]
    },
    {
      "cell_type": "code",
      "execution_count": null,
      "id": "371de8bc",
      "metadata": {},
      "outputs": [
        {
          "data": {
            "image/png": "[encoded data removed]",
            "text/plain": [
              "<Figure size 600x600 with 1 Axes>"
            ]
          },
          "metadata": {},
          "output_type": "display_data"
        }
      ],
      "source": [
        "plt.figure(figsize=(6, 6))\n",
        "plt.scatter(Pol, Prediction, s=10)\n",
        "plt.show()"
      ]
    },
    {
      "cell_type": "code",
      "execution_count": null,
      "id": "96eb5a96",
      "metadata": {},
      "outputs": [
        {
          "data": {
            "image/png": "[encoded data removed]",
            "text/plain": [
              "<Figure size 600x600 with 1 Axes>"
            ]
          },
          "metadata": {},
          "output_type": "display_data"
        }
      ],
      "source": [
        "plt.figure(figsize=(6, 6))\n",
        "plt.scatter(Pol, Signal, s=10)\n",
        "plt.show()"
      ]
    },
    {
      "cell_type": "code",
      "execution_count": null,
      "id": "4ecb3906",
      "metadata": {},
      "outputs": [],
      "source": []
    },
    {
      "cell_type": "markdown",
      "id": "de74cb7e",
      "metadata": {},
      "source": [
        "## 4. Combining detection and quantification in brightfield"
      ]
    },
    {
      "cell_type": "code",
      "execution_count": null,
      "id": "e547b029",
      "metadata": {},
      "outputs": [],
      "source": []
    }
  ],
  "metadata": {
    "interpreter": {
      "hash": "dee7c62952cd92a9f95e3a9cf2ab80d8434e980a2c662f49192ac9761f392c34"
    },
    "kernelspec": {
      "display_name": "Python 3.8.6 64-bit",
      "name": "python3"
    },
    "language_info": {
      "codemirror_mode": {
        "name": "ipython",
        "version": 3
      },
      "file_extension": ".py",
      "mimetype": "text/x-python",
      "name": "python",
      "nbconvert_exporter": "python",
      "pygments_lexer": "ipython3",
      "version": "3.9.16"
    }
  },
  "nbformat": 4,
  "nbformat_minor": 5
}
